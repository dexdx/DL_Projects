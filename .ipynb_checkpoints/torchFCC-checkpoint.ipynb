{
 "cells": [
  {
   "cell_type": "code",
   "execution_count": 9,
   "id": "chinese-albert",
   "metadata": {},
   "outputs": [],
   "source": [
    "import torch\n",
    "from torch import nn\n",
    "from torch import optim\n",
    "from torch import empty"
   ]
  },
  {
   "cell_type": "code",
   "execution_count": 2,
   "id": "surprised-joint",
   "metadata": {},
   "outputs": [],
   "source": [
    "class torchFCC(nn.Module):\n",
    "    \n",
    "    def __init__(self):\n",
    "        super(torchFCC, self).__init__()\n",
    "        \n",
    "        self.FCC = nn.Sequential(\n",
    "            nn.Linear(2,16),\n",
    "            nn.Tanh(),\n",
    "            nn.Linear(16,8),\n",
    "            nn.ReLU(),\n",
    "            nn.Linear(8,1),\n",
    "            nn.ReLU()\n",
    "        )\n",
    "    \n",
    "    def forward(self, x):\n",
    "        return self.FCC(x)"
   ]
  },
  {
   "cell_type": "code",
   "execution_count": 4,
   "id": "synthetic-flower",
   "metadata": {},
   "outputs": [],
   "source": [
    "train_size = 1000\n",
    "test_size = 200\n",
    "valid_size = 100\n",
    "train_input = empty(train_size, 2).uniform_(0,1)\n",
    "train_target = train_input.add(-0.5).pow(2).sum(1).sub(1 / (7)).multiply(-1).sign().add(1).div(2)\n",
    "\n",
    "valid_input = empty(valid_size, 2).uniform_(0,1)\n",
    "valid_target = valid_input.add(-0.5).pow(2).sum(1).sub(1 / (7)).multiply(-1).sign().add(1).div(2)\n",
    "\n",
    "test_input = empty(test_size, 2).uniform_(0,1)\n",
    "test_target = test_input.add(-0.5).pow(2).sum(1).sub(1 / (7)).multiply(-1).sign().add(1).div(2)"
   ]
  },
  {
   "cell_type": "code",
   "execution_count": 14,
   "id": "comfortable-circumstances",
   "metadata": {},
   "outputs": [],
   "source": [
    "def modelTrainer(train_input, train_target, test_input, test_target, test_size):\n",
    "    model = torchFCC()\n",
    "    crit = nn.MSELoss()\n",
    "    optimizer = optim.SGD(model.parameters(), lr=1e-1)\n",
    "    for epoch in range(1000):\n",
    "        minibatch = 200\n",
    "        for i in range(0, train_input.size(0), minibatch):\n",
    "            out = model(train_input.narrow(0,i,minibatch))\n",
    "            loss = crit(out,train_target.narrow(0,i,minibatch))\n",
    "            model.zero_grad()\n",
    "            loss.backward()\n",
    "            optimizer.step()\n",
    "        if epoch % 20 == 0:\n",
    "            print(\"Loss:\", loss.item())\n",
    "    print(\"---------------------------------\")"
   ]
  },
  {
   "cell_type": "code",
   "execution_count": 15,
   "id": "finnish-heath",
   "metadata": {
    "scrolled": true
   },
   "outputs": [
    {
     "name": "stdout",
     "output_type": "stream",
     "text": [
      "Loss: 0.2602323889732361\n",
      "Loss: 0.2518954873085022\n",
      "Loss: 0.2517624497413635\n",
      "Loss: 0.2516929805278778\n",
      "Loss: 0.2516518235206604\n",
      "Loss: 0.25161975622177124\n",
      "Loss: 0.2515915632247925\n",
      "Loss: 0.2515679597854614\n",
      "Loss: 0.25154590606689453\n",
      "Loss: 0.2515251934528351\n",
      "Loss: 0.2515043020248413\n",
      "Loss: 0.2514856457710266\n",
      "Loss: 0.2514684796333313\n",
      "Loss: 0.2514509856700897\n",
      "Loss: 0.2514338493347168\n",
      "Loss: 0.2514176070690155\n",
      "Loss: 0.2514019012451172\n",
      "Loss: 0.25138741731643677\n",
      "Loss: 0.2513715922832489\n",
      "Loss: 0.2513562738895416\n",
      "Loss: 0.25134336948394775\n",
      "Loss: 0.2513297498226166\n",
      "Loss: 0.25131669640541077\n",
      "Loss: 0.25130385160446167\n",
      "Loss: 0.2512921988964081\n",
      "Loss: 0.2512790262699127\n",
      "Loss: 0.2512671947479248\n",
      "Loss: 0.25125566124916077\n",
      "Loss: 0.25124529004096985\n",
      "Loss: 0.2512335479259491\n",
      "Loss: 0.2512228786945343\n",
      "Loss: 0.25121212005615234\n",
      "Loss: 0.25120165944099426\n",
      "Loss: 0.25119149684906006\n",
      "Loss: 0.2511817216873169\n",
      "Loss: 0.25117215514183044\n",
      "Loss: 0.2511628270149231\n",
      "Loss: 0.25115418434143066\n",
      "Loss: 0.2511443793773651\n",
      "Loss: 0.25113609433174133\n",
      "Loss: 0.2511281669139862\n",
      "Loss: 0.251119464635849\n",
      "Loss: 0.2511110305786133\n",
      "Loss: 0.2511035203933716\n",
      "Loss: 0.2510963976383209\n",
      "Loss: 0.2510890066623688\n",
      "Loss: 0.25108247995376587\n",
      "Loss: 0.25107496976852417\n",
      "Loss: 0.25106897950172424\n",
      "Loss: 0.25106173753738403\n",
      "---------------------------------\n"
     ]
    }
   ],
   "source": [
    "modelTrainer(train_input, train_target, test_input, test_target, test_size)"
   ]
  }
 ],
 "metadata": {
  "kernelspec": {
   "display_name": "Python 3",
   "language": "python",
   "name": "python3"
  },
  "language_info": {
   "codemirror_mode": {
    "name": "ipython",
    "version": 3
   },
   "file_extension": ".py",
   "mimetype": "text/x-python",
   "name": "python",
   "nbconvert_exporter": "python",
   "pygments_lexer": "ipython3",
   "version": "3.8.8"
  }
 },
 "nbformat": 4,
 "nbformat_minor": 5
}
