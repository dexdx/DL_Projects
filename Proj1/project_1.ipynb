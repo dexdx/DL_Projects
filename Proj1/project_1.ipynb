{
 "cells": [
  {
   "cell_type": "code",
   "execution_count": 35,
   "id": "metropolitan-accuracy",
   "metadata": {},
   "outputs": [],
   "source": [
    "# from models import FCC, Siamese, Siamese_no_sharing\n",
    "from models_v2 import FCC, Siamese\n",
    "import dlc_practical_prologue\n",
    "import torch\n",
    "from torch import nn\n",
    "from torch import optim\n",
    "import torchvision\n",
    "from torch.nn import functional as F\n",
    "from tqdm import trange\n",
    "import matplotlib.pyplot as plt\n",
    "import models\n",
    "# from utils import Proj1\n",
    "import utils"
   ]
  },
  {
   "cell_type": "code",
   "execution_count": 2,
   "id": "unusual-stephen",
   "metadata": {},
   "outputs": [],
   "source": [
    "# Load and pack data\n",
    "train_input, train_target, train_classes, test_input, test_target, test_classes = dlc_practical_prologue.generate_pair_sets(1000)\n",
    "train_data = (train_input, train_target, train_classes)\n",
    "test_data = (test_input, test_target, test_classes)\n",
    "\n",
    "# Instantiate models\n",
    "models = (FCC(), FCC(share=True), FCC(aux=True), FCC(share=True, aux=True), Siamese(), Siamese(share=True), Siamese(aux=True), Siamese(share=True, aux=True))\n",
    "\n",
    "model_names = ('FCC' , 'FCC with shared weights', 'FCC with auxiliary loss', 'FCC with auxiliary loss and shared weights',\n",
    "               'Siamese without wwight sharing', 'Siamese with shared weights', 'Siamese with auxiliary loss', 'Siamese with auxiliary loss and shared weights')"
   ]
  },
  {
   "cell_type": "code",
   "execution_count": 3,
   "id": "defensive-petite",
   "metadata": {},
   "outputs": [],
   "source": [
    "# Define function that can evaluate all models\n",
    "def evaluate_all(models, model_names, train_data, test_data, batch_size=100, rounds=10, epochs=25):\n",
    "    # Unpack data\n",
    "    train_input, train_target, train_classes = train_data\n",
    "    test_input, test_target, test_classes = test_data\n",
    "    # Initialize err rates arrays\n",
    "    train_error_rates = torch.empty(rounds)\n",
    "    test_error_rates = torch.empty(rounds)\n",
    "    \n",
    "    # Iterate models\n",
    "    for model, name in zip(models, model_names):\n",
    "        print(f'Training model {name} (contains {utils.count_parameters(model)}): ')\n",
    "        # Iterate over r to get average\n",
    "        for r in trange(rounds):\n",
    "            # Call train_model with the correct parameters\n",
    "            if 'Aux' in name:\n",
    "                utils.train_model(model, train_input, train_target, batch_size, epochs, train_classes)\n",
    "            else:\n",
    "                utils.train_model(model, train_input, train_target, batch_size, epochs, train_classes=None)\n",
    "            # Get error on train and test set\n",
    "            train_error_rates[r] = utils.compute_nb_errors(model, train_input, train_target, batch_size)/train_input.size(0)\n",
    "            test_error_rates[r] = utils.compute_nb_errors(model, test_input, test_target, batch_size)/test_input.size(0)\n",
    "            \n",
    "        #print(f'For the model {name}, the train average error rate is {train_error_rates.mean()} and the test average error rate {test_error_rates.mean()}\\n')\n",
    "        print('For the model {}, the train average error rate is {:.3}% and the test average error rate is {:.3}%.\\n'\n",
    "              .format(name, 100*train_error_rates.mean(), 100*test_error_rates.mean()))"
   ]
  },
  {
   "cell_type": "code",
   "execution_count": 4,
   "id": "auburn-function",
   "metadata": {},
   "outputs": [
    {
     "name": "stderr",
     "output_type": "stream",
     "text": [
      "  0%|                                                                                           | 0/10 [00:00<?, ?it/s]"
     ]
    },
    {
     "name": "stdout",
     "output_type": "stream",
     "text": [
      "Training model FCC (contains 483618): \n"
     ]
    },
    {
     "name": "stderr",
     "output_type": "stream",
     "text": [
      "100%|██████████████████████████████████████████████████████████████████████████████████| 10/10 [00:46<00:00,  4.67s/it]\n",
      "  0%|                                                                                           | 0/10 [00:00<?, ?it/s]"
     ]
    },
    {
     "name": "stdout",
     "output_type": "stream",
     "text": [
      "For the model FCC, the train average error rate is 0.17% and the test average error rate is 17.4%.\n",
      "\n",
      "Training model FCC with shared weights (contains 483618): \n"
     ]
    },
    {
     "name": "stderr",
     "output_type": "stream",
     "text": [
      "100%|██████████████████████████████████████████████████████████████████████████████████| 10/10 [00:42<00:00,  4.22s/it]\n",
      "  0%|                                                                                           | 0/10 [00:00<?, ?it/s]"
     ]
    },
    {
     "name": "stdout",
     "output_type": "stream",
     "text": [
      "For the model FCC with shared weights, the train average error rate is 0.06% and the test average error rate is 13.8%.\n",
      "\n",
      "Training model FCC with auxiliary loss (contains 483618): \n"
     ]
    },
    {
     "name": "stderr",
     "output_type": "stream",
     "text": [
      "100%|██████████████████████████████████████████████████████████████████████████████████| 10/10 [00:51<00:00,  5.16s/it]\n",
      "  0%|                                                                                           | 0/10 [00:00<?, ?it/s]"
     ]
    },
    {
     "name": "stdout",
     "output_type": "stream",
     "text": [
      "For the model FCC with auxiliary loss, the train average error rate is 0.08% and the test average error rate is 18.1%.\n",
      "\n",
      "Training model FCC with auxiliary loss and shared weights (contains 483618): \n"
     ]
    },
    {
     "name": "stderr",
     "output_type": "stream",
     "text": [
      "100%|██████████████████████████████████████████████████████████████████████████████████| 10/10 [00:47<00:00,  4.71s/it]\n",
      "  0%|                                                                                           | 0/10 [00:00<?, ?it/s]"
     ]
    },
    {
     "name": "stdout",
     "output_type": "stream",
     "text": [
      "For the model FCC with auxiliary loss and shared weights, the train average error rate is 0.02% and the test average error rate is 13.9%.\n",
      "\n",
      "Training model Siamese without wwight sharing (contains 135480): \n"
     ]
    },
    {
     "name": "stderr",
     "output_type": "stream",
     "text": [
      "100%|██████████████████████████████████████████████████████████████████████████████████| 10/10 [01:22<00:00,  8.26s/it]\n",
      "  0%|                                                                                           | 0/10 [00:00<?, ?it/s]"
     ]
    },
    {
     "name": "stdout",
     "output_type": "stream",
     "text": [
      "For the model Siamese without wwight sharing, the train average error rate is 1.65% and the test average error rate is 15.1%.\n",
      "\n",
      "Training model Siamese with shared weights (contains 135480): \n"
     ]
    },
    {
     "name": "stderr",
     "output_type": "stream",
     "text": [
      "100%|██████████████████████████████████████████████████████████████████████████████████| 10/10 [01:16<00:00,  7.63s/it]\n",
      "  0%|                                                                                           | 0/10 [00:00<?, ?it/s]"
     ]
    },
    {
     "name": "stdout",
     "output_type": "stream",
     "text": [
      "For the model Siamese with shared weights, the train average error rate is 2.45% and the test average error rate is 14.1%.\n",
      "\n",
      "Training model Siamese with auxiliary loss (contains 135480): \n"
     ]
    },
    {
     "name": "stderr",
     "output_type": "stream",
     "text": [
      "100%|██████████████████████████████████████████████████████████████████████████████████| 10/10 [01:24<00:00,  8.43s/it]\n",
      "  0%|                                                                                           | 0/10 [00:00<?, ?it/s]"
     ]
    },
    {
     "name": "stdout",
     "output_type": "stream",
     "text": [
      "For the model Siamese with auxiliary loss, the train average error rate is 2.9% and the test average error rate is 15.6%.\n",
      "\n",
      "Training model Siamese with auxiliary loss and shared weights (contains 135480): \n"
     ]
    },
    {
     "name": "stderr",
     "output_type": "stream",
     "text": [
      "100%|██████████████████████████████████████████████████████████████████████████████████| 10/10 [01:15<00:00,  7.53s/it]"
     ]
    },
    {
     "name": "stdout",
     "output_type": "stream",
     "text": [
      "For the model Siamese with auxiliary loss and shared weights, the train average error rate is 2.53% and the test average error rate is 12.8%.\n",
      "\n"
     ]
    },
    {
     "name": "stderr",
     "output_type": "stream",
     "text": [
      "\n"
     ]
    }
   ],
   "source": [
    "# Actually evaluate models (this cell while take a while to run)\n",
    "evaluate_all(models, model_names, train_data, test_data, batch_size=100, rounds=10, epochs=25)"
   ]
  },
  {
   "cell_type": "code",
   "execution_count": 36,
   "id": "reliable-compatibility",
   "metadata": {},
   "outputs": [
    {
     "ename": "IndexError",
     "evalue": "index 8 is out of bounds for axis 0 with size 8",
     "output_type": "error",
     "traceback": [
      "\u001b[1;31m---------------------------------------------------------------------------\u001b[0m",
      "\u001b[1;31mIndexError\u001b[0m                                Traceback (most recent call last)",
      "\u001b[1;32m<ipython-input-36-1bba66d5be8f>\u001b[0m in \u001b[0;36m<module>\u001b[1;34m\u001b[0m\n\u001b[0;32m     19\u001b[0m \u001b[1;33m\u001b[0m\u001b[0m\n\u001b[0;32m     20\u001b[0m     \u001b[1;31m# Plot loss\u001b[0m\u001b[1;33m\u001b[0m\u001b[1;33m\u001b[0m\u001b[1;33m\u001b[0m\u001b[0m\n\u001b[1;32m---> 21\u001b[1;33m     \u001b[0max_loss\u001b[0m \u001b[1;33m=\u001b[0m \u001b[0maxs\u001b[0m\u001b[1;33m[\u001b[0m\u001b[0mi\u001b[0m\u001b[1;33m]\u001b[0m\u001b[1;33m\u001b[0m\u001b[1;33m\u001b[0m\u001b[0m\n\u001b[0m\u001b[0;32m     22\u001b[0m     \u001b[0max_loss\u001b[0m\u001b[1;33m.\u001b[0m\u001b[0mset_xlabel\u001b[0m\u001b[1;33m(\u001b[0m\u001b[1;34m'Epochs'\u001b[0m\u001b[1;33m)\u001b[0m\u001b[1;33m\u001b[0m\u001b[1;33m\u001b[0m\u001b[0m\n\u001b[0;32m     23\u001b[0m     \u001b[0max_loss\u001b[0m\u001b[1;33m.\u001b[0m\u001b[0mset_ylabel\u001b[0m\u001b[1;33m(\u001b[0m\u001b[1;34m'Loss'\u001b[0m\u001b[1;33m)\u001b[0m\u001b[1;33m\u001b[0m\u001b[1;33m\u001b[0m\u001b[0m\n",
      "\u001b[1;31mIndexError\u001b[0m: index 8 is out of bounds for axis 0 with size 8"
     ]
    },
    {
     "data": {
      "image/png": "[encoded data removed]",
      "text/plain": [
       "<Figure size 1440x1080 with 8 Axes>"
      ]
     },
     "metadata": {
      "needs_background": "light"
     },
     "output_type": "display_data"
    }
   ],
   "source": [
    "# Reinstantiate models to plot the evolution of accuracy and loss. \n",
    "models = (FCC(), FCC(share=True), FCC(aux=True), FCC(share=True, aux=True), \n",
    "          Siamese(), Siamese(share=True), Siamese(aux=True), Siamese(share=True, aux=True))\n",
    "\n",
    "model_names = ('FCC' , 'FCC with Shared Weights', 'FCC with Auxiliary Loss', 'FCC with Auxiliary Loss and Shared Weights',\n",
    "               'Siamese', 'Siamese with Shared Weights', 'Siamese with Auxiliary Loss', 'Siamese with Auxiliary Loss and Shared Weights')\n",
    "\n",
    "# Initialize figure for report\n",
    "mpl.rcParams.update({'font.size': 16})\n",
    "fig, axs = plt.subplots(4, 2, figsize = (20, 15))\n",
    "axs = axs.reshape(-1)\n",
    "i = 0\n",
    "\n",
    "# Iterate models\n",
    "for model, model_name in zip(models, model_names):\n",
    "    \n",
    "    # Train model for 25 epochs\n",
    "    losses = list(utils.train_model_track_errors(model, train_input, train_target, 100, 25, test_input, test_target, train_classes))\n",
    "    train_loss, test_loss, train_acc, test_acc = losses\n",
    "    \n",
    "    # Plot loss\n",
    "    ax_loss = axs[i]\n",
    "    ax_loss.set_xlabel('Epochs')\n",
    "    ax_loss.set_ylabel('Loss')\n",
    "    ax_loss.set_title(model_name)\n",
    "    p1 = ax_loss.plot(train_loss, 'r', label = 'Train Loss')\n",
    "    p2 = ax_loss.plot(test_loss,  'b', label = 'Test Loss')\n",
    "    \n",
    "    ax_acc = ax_loss.twinx()  # instantiate a second axes that shares the same x-axis\n",
    "    # Plot accuracy on twin axes\n",
    "    ax_acc.set_ylabel('Accuracy')  # we already handled the x-label with ax1\n",
    "    p3 = ax_acc.plot(test_acc, 'g', label = 'Test Accuracy')\n",
    "    p4 = ax_acc.plot(train_acc, 'k', label = 'Train Accuracy')\n",
    "    legends = [l.get_label() for l in p1+p2+p3+p4]\n",
    "    ax_acc.grid()\n",
    "    ax_acc.legend(p1+p2+p3+p4, legends)\n",
    "    i += 1\n",
    "# Make plot nice\n",
    "fig.tight_layout()"
   ]
  }
 ],
 "metadata": {
  "kernelspec": {
   "display_name": "Python 3",
   "language": "python",
   "name": "python3"
  },
  "language_info": {
   "codemirror_mode": {
    "name": "ipython",
    "version": 3
   },
   "file_extension": ".py",
   "mimetype": "text/x-python",
   "name": "python",
   "nbconvert_exporter": "python",
   "pygments_lexer": "ipython3",
   "version": "3.7.9"
  }
 },
 "nbformat": 4,
 "nbformat_minor": 5
}
