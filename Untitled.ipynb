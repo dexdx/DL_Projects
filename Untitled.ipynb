{
 "cells": [
  {
   "cell_type": "code",
   "execution_count": 15,
   "id": "noticed-battle",
   "metadata": {},
   "outputs": [],
   "source": [
    "from models import FCC, Siamese, Siamese_no_sharing, Siamese_ws_auxilary"
   ]
  },
  {
   "cell_type": "code",
   "execution_count": 16,
   "id": "alive-invalid",
   "metadata": {},
   "outputs": [],
   "source": [
    "m = Siamese_ws_auxilary()"
   ]
  }
 ],
 "metadata": {
  "kernelspec": {
   "display_name": "Python 3",
   "language": "python",
   "name": "python3"
  },
  "language_info": {
   "codemirror_mode": {
    "name": "ipython",
    "version": 3
   },
   "file_extension": ".py",
   "mimetype": "text/x-python",
   "name": "python",
   "nbconvert_exporter": "python",
   "pygments_lexer": "ipython3",
   "version": "3.8.8"
  }
 },
 "nbformat": 4,
 "nbformat_minor": 5
}
