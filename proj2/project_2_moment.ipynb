{
 "cells": [
  {
   "cell_type": "code",
   "execution_count": 1,
   "id": "19be0f9c",
   "metadata": {},
   "outputs": [],
   "source": [
    "from torch import empty\n",
    "import math\n",
    "from NN_Modules import LossMSE, ReLU, Tanh, Sigmoid, FCC, Sequential, modelTester, modelTrainer"
   ]
  },
  {
   "cell_type": "code",
   "execution_count": 2,
   "id": "5631c36e",
   "metadata": {
    "scrolled": true,
    "tags": []
   },
   "outputs": [
    {
     "name": "stdout",
     "output_type": "stream",
     "text": [
      "0.92\n"
     ]
    }
   ],
   "source": [
    "#torch.set_grad_enabled(False)\n",
    "train_size = 1000\n",
    "test_size = 200\n",
    "valid_size = 100\n",
    "train_input = empty(train_size, 2).uniform_(0,1)\n",
    "train_target = train_input.add(-0.5).pow(2).sum(1).sub(1 / (7)).multiply(-1).sign().add(1).div(2)\n",
    "\n",
    "valid_input = empty(valid_size, 2).uniform_(0,1)\n",
    "valid_target = valid_input.add(-0.5).pow(2).sum(1).sub(1 / (7)).multiply(-1).sign().add(1).div(2)\n",
    "\n",
    "test_input = empty(test_size, 2).uniform_(0,1)\n",
    "test_target = test_input.add(-0.5).pow(2).sum(1).sub(1 / (7)).multiply(-1).sign().add(1).div(2)\n",
    "\n",
    "\n",
    "train_noise = empty(train_size, 2).normal_(0,0.05) \n",
    "valid_noise = empty(valid_size, 2).normal_(0,0.05) \n",
    "test_noise = empty(test_size, 2).normal_(0,0.05)\n",
    "\n",
    "train_input += train_noise\n",
    "valid_input += valid_noise\n",
    "test_input += test_noise\n",
    "\n",
    "\n",
    "seq = Sequential([\"FCC\",\"Tanh\",\"FCC\"],[[2,8],[], [8,1]],\"MSE\",momentum = 0.2)\n",
    "trained_model ,_ ,_  = modelTrainer(seq,1000, train_input,train_target,valid_input,valid_target, 20, 10)\n",
    "\n",
    "\n",
    "\n",
    "print(modelTester(trained_model, test_input,test_target,10) )\n",
    "\n",
    "\n"
   ]
  },
  {
   "cell_type": "code",
   "execution_count": null,
   "id": "d71d8b34",
   "metadata": {},
   "outputs": [],
   "source": []
  },
  {
   "cell_type": "code",
   "execution_count": 3,
   "id": "87c378e4",
   "metadata": {},
   "outputs": [],
   "source": [
    "def in_circle(dataset):\n",
    "    dataset = dataset.add(-0.5) #Center the points\n",
    "    target = empty(dataset.shape[0], 2)\n",
    "    target[:,0] = dataset.pow(2).sum(1) <= 1 / (2 * math.pi)\n",
    "    target[:,1] =  (target[:,0] != 1)\n",
    "    return target\n",
    "\n",
    "train_size = 1000\n",
    "test_size = 1000\n",
    "train_input = empty(train_size, 2).uniform_(0,1)\n",
    "train_target = in_circle(train_input)\n",
    "\n",
    "test_input = empty(test_size, 2).uniform_(0,1)\n",
    "test_target = in_circle(test_input)\n",
    "\n",
    "\n",
    "model = Sequential([\"FCC\",\"Tanh\", \"FCC\",\"ReLU\",\"FCC\",\"Tanh\", \"FCC\"],[[2,25],[], [25,25],[], [25,25],[], [25,2]],\"MSE\",momentum = 0.1)\n",
    "trained_model ,loss, train_acc  = modelTrainer(model = model , num_epoch = 300, train_input = train_input,train_target = train_target, train_batch = 20)\n",
    "test_acc = modelTester(trained_model, test_input,test_target,10)\n",
    "print(\"Final Test accuracy: \", test_acc)\n",
    "print(\"Final Train accuracy: \", train_acc[0][-1])"
   ]
  },
  {
   "cell_type": "code",
   "execution_count": null,
   "id": "103a7d3b",
   "metadata": {},
   "outputs": [],
   "source": []
  },
  {
   "cell_type": "markdown",
   "id": "dd975d06",
   "metadata": {},
   "source": [
    "### Benchmarking"
   ]
  },
  {
   "cell_type": "code",
   "execution_count": null,
   "id": "85f7a18e",
   "metadata": {},
   "outputs": [],
   "source": [
    "from torch import optim, Tensor, nn\n",
    "from torch import Tensor\n",
    "from torch import nn\n",
    "import torch\n",
    "import numpy as np\n",
    "import matplotlib.pyplot as plt\n",
    "torch.set_grad_enabled(True)\n",
    "\n",
    "def create_model():\n",
    "    return nn.Sequential(\n",
    "        nn.Linear(2, 8),\n",
    "        nn.ReLU(),\n",
    "        nn.Linear(8, 1),\n",
    "#         nn.ReLU(),\n",
    "    )\n",
    "\n",
    "def train_model(model, train_input, train_target):\n",
    "    loss_track = []\n",
    "    loss_func = nn.MSELoss()\n",
    "    optimizer = optim.SGD(model.parameters(), lr = 0.1)\n",
    "    mini_batch = 200\n",
    "    # Iterate through epochs\n",
    "    for i in range(1000):\n",
    "        #Iterate t hrough mini batches\n",
    "        for b in range(0, train_input.size(0), mini_batch):\n",
    "            # Forward pass selecting the corresponding minibacth\n",
    "            output = model(train_input.narrow(0, b, mini_batch))\n",
    "            # Calculate loss\n",
    "            loss = loss_func(output.squeeze(), train_target.narrow(0, b, mini_batch))\n",
    "#             print(\"Loss:\", loss.item())\n",
    "            # Reset zero grad\n",
    "            model.zero_grad()\n",
    "            # Backward pass\n",
    "            loss.backward()\n",
    "            #Update step\n",
    "            optimizer.step()\n",
    "        loss_track.append(loss)\n",
    "    plt.plot(loss_track)\n",
    "    \n",
    "def compute_nb_errors(model, data_input, data_target):\n",
    "        output = model(data_input)\n",
    "        comp = output.argmax(dim = 1) != data_target.argmax(dim = 1)\n",
    "        nb_errors = torch.where(comp)[0].size()[0]\n",
    "        error_rate = nb_errors/data_input.size(0)\n",
    "        print(f'There were a total of {nb_errors} errors, or {error_rate} of the testing set.')\n",
    "        \n",
    "        \n",
    "model = create_model()\n",
    "train_model(model, train_input, train_target)\n",
    "# compute_nb_errors(model, test_input, test_target)"
   ]
  },
  {
   "cell_type": "code",
   "execution_count": null,
   "id": "2f6650f2",
   "metadata": {},
   "outputs": [],
   "source": []
  }
 ],
 "metadata": {
  "kernelspec": {
   "display_name": "Python 3",
   "language": "python",
   "name": "python3"
  },
  "language_info": {
   "codemirror_mode": {
    "name": "ipython",
    "version": 3
   },
   "file_extension": ".py",
   "mimetype": "text/x-python",
   "name": "python",
   "nbconvert_exporter": "python",
   "pygments_lexer": "ipython3",
   "version": "3.7.4"
  }
 },
 "nbformat": 4,
 "nbformat_minor": 5
}
