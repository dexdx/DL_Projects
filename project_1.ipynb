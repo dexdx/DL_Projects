{
 "cells": [
  {
   "cell_type": "code",
   "execution_count": 1,
   "id": "specific-renaissance",
   "metadata": {},
   "outputs": [],
   "source": [
    "from models import FCC, FCC_aux, Siamese, Siamese_no_sharing, Siamese_ws_aux\n",
    "import dlc_practical_prologue\n",
    "import torch\n",
    "from torch import nn\n",
    "from torch import optim\n",
    "import torchvision\n",
    "from torch.nn import functional as F\n",
    "from tqdm import trange\n",
    "import matplotlib.pyplot as plt\n",
    "import models\n",
    "from utils import Proj1"
   ]
  },
  {
   "cell_type": "code",
   "execution_count": 5,
   "id": "artistic-saturday",
   "metadata": {},
   "outputs": [],
   "source": [
    "# Load data\n",
    "train_input, train_target, train_classes, test_input, test_target, test_classes = dlc_practical_prologue.generate_pair_sets(1000)\n",
    "\n",
    "train_data = (train_input, train_target, train_classes)\n",
    "test_data = (test_input, test_target, test_classes)\n",
    "\n",
    "# INstantiate models\n",
    "models = (FCC(), FCC_aux(), Siamese(), Siamese_no_sharing(), Siamese_ws_aux())\n",
    "model_names = ('FCC' , 'FCC w Auxiliary Loss', 'Siamese (weight sharing)', 'Siamese (no weight sharing)', 'Siamese (weight sharing and Auxiliary Loss)')"
   ]
  },
  {
   "cell_type": "code",
   "execution_count": 17,
   "id": "accepted-wyoming",
   "metadata": {},
   "outputs": [],
   "source": [
    "def evaluate_all(models, model_names, train_data, test_data, batch_size=100, rounds=10, epochs=25):\n",
    "    '''\n",
    "    - train and test_date should be complete (train_input, train_target, train_classes)\n",
    "    - model_names are strings, that should contain the word Auxiliary\n",
    "    '''\n",
    "    # Unpack data\n",
    "    train_input, train_target, train_classes = train_data\n",
    "    test_input, test_target, test_classes = test_data\n",
    "    # Initialize err rates arrays\n",
    "    train_error_rates = torch.empty(rounds)\n",
    "    test_error_rates = torch.empty(rounds)\n",
    "    \n",
    "    # Iterate models\n",
    "    for model, name in zip(models, model_names):\n",
    "        print(f'Training model {name}')\n",
    "        # Iterate over r to get average\n",
    "        for r in trange(rounds):\n",
    "            # Call train_model with the correct parameters\n",
    "            if 'Aux' in name:\n",
    "                Proj1.train_model(model, train_input, train_target, batch_size, epochs, train_classes)\n",
    "            else:\n",
    "                Proj1.train_model(model, train_input, train_target, batch_size, epochs, train_classes=None)\n",
    "            # Get error on train and test set\n",
    "            train_error_rates[r] = Proj1.compute_nb_errors(model, train_input, train_target, batch_size)/train_input.size(0)\n",
    "            test_error_rates[r] = Proj1.compute_nb_errors(model, test_input, test_target, batch_size)/test_input.size(0)\n",
    "            \n",
    "        print(f'For the model {name}, the train average error rate is {train_error_rates.mean()} and the test average error rate {test_error_rates.mean()} ')\n",
    "#     return error_rates\n",
    "\n",
    "\n",
    "# def error_rates(model, input_data, target_data, batch_size=100, rounds=10, epochs=25, target_classes=None):\n",
    "#     error_rates = torch.empty(rounds)\n",
    "#     for r in trange(rounds):\n",
    "#         train_model(model, train_input, train_target, 100, 25, target_classes)\n",
    "#         error_rates[r] = compute_nb_errors(model, test_input, test_target, 100)/test_input.size(0)\n",
    "#     return error_rates"
   ]
  },
  {
   "cell_type": "code",
   "execution_count": 18,
   "id": "serial-consortium",
   "metadata": {},
   "outputs": [
    {
     "name": "stderr",
     "output_type": "stream",
     "text": [
      "  0%|                                                                                           | 0/10 [00:00<?, ?it/s]"
     ]
    },
    {
     "name": "stdout",
     "output_type": "stream",
     "text": [
      "Training model FCC\n"
     ]
    },
    {
     "name": "stderr",
     "output_type": "stream",
     "text": [
      "100%|██████████████████████████████████████████████████████████████████████████████████| 10/10 [00:44<00:00,  4.43s/it]\n",
      "  0%|                                                                                           | 0/10 [00:00<?, ?it/s]"
     ]
    },
    {
     "name": "stdout",
     "output_type": "stream",
     "text": [
      "For the model FCC, the train average error rate is 0.10500000417232513 and the test average error rate 0.21900001168251038 \n",
      "Training model FCC w Auxiliary Loss\n"
     ]
    },
    {
     "name": "stderr",
     "output_type": "stream",
     "text": [
      "100%|██████████████████████████████████████████████████████████████████████████████████| 10/10 [01:07<00:00,  6.75s/it]\n",
      "  0%|                                                                                           | 0/10 [00:00<?, ?it/s]"
     ]
    },
    {
     "name": "stdout",
     "output_type": "stream",
     "text": [
      "For the model FCC w Auxiliary Loss, the train average error rate is 0.0 and the test average error rate 0.19100001454353333 \n",
      "Training model Siamese (weight sharing)\n"
     ]
    },
    {
     "name": "stderr",
     "output_type": "stream",
     "text": [
      "100%|██████████████████████████████████████████████████████████████████████████████████| 10/10 [00:24<00:00,  2.42s/it]\n",
      "  0%|                                                                                           | 0/10 [00:00<?, ?it/s]"
     ]
    },
    {
     "name": "stdout",
     "output_type": "stream",
     "text": [
      "For the model Siamese (weight sharing), the train average error rate is 0.003599999938160181 and the test average error rate 0.17340001463890076 \n",
      "Training model Siamese (no weight sharing)\n"
     ]
    },
    {
     "name": "stderr",
     "output_type": "stream",
     "text": [
      "100%|██████████████████████████████████████████████████████████████████████████████████| 10/10 [00:25<00:00,  2.57s/it]\n",
      "  0%|                                                                                           | 0/10 [00:00<?, ?it/s]"
     ]
    },
    {
     "name": "stdout",
     "output_type": "stream",
     "text": [
      "For the model Siamese (no weight sharing), the train average error rate is 0.006000000052154064 and the test average error rate 0.16279999911785126 \n",
      "Training model Siamese (weight sharing and Auxiliary Loss)\n"
     ]
    },
    {
     "name": "stderr",
     "output_type": "stream",
     "text": [
      "100%|██████████████████████████████████████████████████████████████████████████████████| 10/10 [00:42<00:00,  4.20s/it]"
     ]
    },
    {
     "name": "stdout",
     "output_type": "stream",
     "text": [
      "For the model Siamese (weight sharing and Auxiliary Loss), the train average error rate is 0.0 and the test average error rate 0.1193000078201294 \n"
     ]
    },
    {
     "name": "stderr",
     "output_type": "stream",
     "text": [
      "\n"
     ]
    }
   ],
   "source": [
    "evaluate_all(models, model_names, train_data, test_data, batch_size=100, rounds=10, epochs=25)"
   ]
  }
 ],
 "metadata": {
  "kernelspec": {
   "display_name": "Python 3",
   "language": "python",
   "name": "python3"
  },
  "language_info": {
   "codemirror_mode": {
    "name": "ipython",
    "version": 3
   },
   "file_extension": ".py",
   "mimetype": "text/x-python",
   "name": "python",
   "nbconvert_exporter": "python",
   "pygments_lexer": "ipython3",
   "version": "3.7.9"
  }
 },
 "nbformat": 4,
 "nbformat_minor": 5
}
