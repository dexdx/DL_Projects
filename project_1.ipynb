{
 "cells": [
  {
   "cell_type": "code",
   "execution_count": 1,
   "id": "specific-renaissance",
   "metadata": {},
   "outputs": [],
   "source": [
    "from models import FCC, FCC_aux, Siamese, Siamese_no_sharing, Siamese_ws_aux\n",
    "import dlc_practical_prologue\n",
    "import torch\n",
    "from torch import nn\n",
    "from torch import optim\n",
    "import torchvision\n",
    "from torch.nn import functional as F\n",
    "from tqdm import trange\n",
    "import matplotlib.pyplot as plt\n",
    "import models\n",
    "from utils import Proj1"
   ]
  },
  {
   "cell_type": "code",
   "execution_count": 2,
   "id": "artistic-saturday",
   "metadata": {},
   "outputs": [],
   "source": [
    "# Load data\n",
    "train_input, train_target, train_classes, test_input, test_target, test_classes = dlc_practical_prologue.generate_pair_sets(1000)\n",
    "\n",
    "train_data = (train_input, train_target, train_classes)\n",
    "test_data = (test_input, test_target, test_classes)\n",
    "\n",
    "# INstantiate models\n",
    "models = (FCC(), FCC_aux(), Siamese(), Siamese_no_sharing(), Siamese_ws_aux())\n",
    "model_names = ('FCC' , 'FCC w Auxiliary Loss', 'Siamese (weight sharing)', 'Siamese (no weight sharing)', 'Siamese (weight sharing and Auxiliary Loss)')"
   ]
  },
  {
   "cell_type": "code",
   "execution_count": 8,
   "id": "accepted-wyoming",
   "metadata": {},
   "outputs": [],
   "source": [
    "def evaluate_all(models, model_names, train_data, test_data, batch_size=100, rounds=10, epochs=25):\n",
    "    '''\n",
    "    - train and test_date should be complete (train_input, train_target, train_classes)\n",
    "    - model_names are strings, that should contain the word Auxiliary\n",
    "    '''\n",
    "    # Unpack data\n",
    "    train_input, train_target, train_classes = train_data\n",
    "    test_input, test_target, test_classes = test_data\n",
    "    # Initialize err rates arrays\n",
    "    train_error_rates = torch.empty(rounds)\n",
    "    test_error_rates = torch.empty(rounds)\n",
    "    \n",
    "    # Iterate models\n",
    "    for model, name in zip(models, model_names):\n",
    "        print(f'Training model {name}:')\n",
    "        # Iterate over r to get average\n",
    "        for r in trange(rounds):\n",
    "            # Call train_model with the correct parameters\n",
    "            if 'Aux' in name:\n",
    "                Proj1.train_model(model, train_input, train_target, batch_size, epochs, train_classes)\n",
    "            else:\n",
    "                Proj1.train_model(model, train_input, train_target, batch_size, epochs, train_classes=None)\n",
    "            # Get error on train and test set\n",
    "            train_error_rates[r] = Proj1.compute_nb_errors(model, train_input, train_target, batch_size)/train_input.size(0)\n",
    "            test_error_rates[r] = Proj1.compute_nb_errors(model, test_input, test_target, batch_size)/test_input.size(0)\n",
    "            \n",
    "        #print(f'For the model {name}, the train average error rate is {train_error_rates.mean()} and the test average error rate {test_error_rates.mean()}\\n')\n",
    "        print('For the model {}, the train average error rate is {:.3}% and the test average error rate is {:.3}%.\\n'\n",
    "              .format(name, 100*train_error_rates.mean(), 100*test_error_rates.mean()))\n",
    "#     return error_rates\n",
    "\n",
    "\n",
    "# def error_rates(model, input_data, target_data, batch_size=100, rounds=10, epochs=25, target_classes=None):\n",
    "#     error_rates = torch.empty(rounds)\n",
    "#     for r in trange(rounds):\n",
    "#         train_model(model, train_input, train_target, 100, 25, target_classes)\n",
    "#         error_rates[r] = compute_nb_errors(model, test_input, test_target, 100)/test_input.size(0)\n",
    "#     return error_rates"
   ]
  },
  {
   "cell_type": "code",
   "execution_count": 9,
   "id": "serial-consortium",
   "metadata": {},
   "outputs": [
    {
     "name": "stderr",
     "output_type": "stream",
     "text": [
      "\r",
      "  0%|                                                                                            | 0/1 [00:00<?, ?it/s]"
     ]
    },
    {
     "name": "stdout",
     "output_type": "stream",
     "text": [
      "Training model FCC\n"
     ]
    },
    {
     "name": "stderr",
     "output_type": "stream",
     "text": [
      "100%|████████████████████████████████████████████████████████████████████████████████████| 1/1 [00:04<00:00,  4.51s/it]\n",
      "  0%|                                                                                            | 0/1 [00:00<?, ?it/s]"
     ]
    },
    {
     "name": "stdout",
     "output_type": "stream",
     "text": [
      "For the model FCC, the train average error rate is 10.5% and the test average error rate is 23.8%\n",
      "\n",
      "Training model FCC w Auxiliary Loss\n"
     ]
    },
    {
     "name": "stderr",
     "output_type": "stream",
     "text": [
      "100%|████████████████████████████████████████████████████████████████████████████████████| 1/1 [00:10<00:00, 10.34s/it]\n",
      "  0%|                                                                                            | 0/1 [00:00<?, ?it/s]"
     ]
    },
    {
     "name": "stdout",
     "output_type": "stream",
     "text": [
      "For the model FCC w Auxiliary Loss, the train average error rate is 0.0% and the test average error rate is 17.8%\n",
      "\n",
      "Training model Siamese (weight sharing)\n"
     ]
    },
    {
     "name": "stderr",
     "output_type": "stream",
     "text": [
      "100%|████████████████████████████████████████████████████████████████████████████████████| 1/1 [00:04<00:00,  4.72s/it]\n",
      "  0%|                                                                                            | 0/1 [00:00<?, ?it/s]"
     ]
    },
    {
     "name": "stdout",
     "output_type": "stream",
     "text": [
      "For the model Siamese (weight sharing), the train average error rate is 0.1% and the test average error rate is 17.1%\n",
      "\n",
      "Training model Siamese (no weight sharing)\n"
     ]
    },
    {
     "name": "stderr",
     "output_type": "stream",
     "text": [
      "100%|████████████████████████████████████████████████████████████████████████████████████| 1/1 [00:06<00:00,  6.34s/it]\n",
      "  0%|                                                                                            | 0/1 [00:00<?, ?it/s]"
     ]
    },
    {
     "name": "stdout",
     "output_type": "stream",
     "text": [
      "For the model Siamese (no weight sharing), the train average error rate is 0.1% and the test average error rate is 17.1%\n",
      "\n",
      "Training model Siamese (weight sharing and Auxiliary Loss)\n"
     ]
    },
    {
     "name": "stderr",
     "output_type": "stream",
     "text": [
      "100%|████████████████████████████████████████████████████████████████████████████████████| 1/1 [00:07<00:00,  7.15s/it]"
     ]
    },
    {
     "name": "stdout",
     "output_type": "stream",
     "text": [
      "For the model Siamese (weight sharing and Auxiliary Loss), the train average error rate is 0.0% and the test average error rate is 10.5%\n",
      "\n"
     ]
    },
    {
     "name": "stderr",
     "output_type": "stream",
     "text": [
      "\n"
     ]
    }
   ],
   "source": [
    "evaluate_all(models, model_names, train_data, test_data, batch_size=100, rounds=1, epochs=25)"
   ]
  }
 ],
 "metadata": {
  "kernelspec": {
   "display_name": "Python 3",
   "language": "python",
   "name": "python3"
  },
  "language_info": {
   "codemirror_mode": {
    "name": "ipython",
    "version": 3
   },
   "file_extension": ".py",
   "mimetype": "text/x-python",
   "name": "python",
   "nbconvert_exporter": "python",
   "pygments_lexer": "ipython3",
   "version": "3.8.8"
  }
 },
 "nbformat": 4,
 "nbformat_minor": 5
}
