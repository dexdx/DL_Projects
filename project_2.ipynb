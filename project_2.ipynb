{
 "cells": [
  {
   "cell_type": "code",
   "execution_count": 1,
   "id": "material-development",
   "metadata": {},
   "outputs": [],
   "source": [
    "from torch import empty\n",
    "import math"
   ]
  },
  {
   "cell_type": "code",
   "execution_count": 43,
   "id": "harmful-treaty",
   "metadata": {},
   "outputs": [],
   "source": [
    "train_size = 1000\n",
    "test_size = 200\n",
    "valid_size = 100\n",
    "train_input = empty(train_size, 2).uniform_(0,1)\n",
    "train_target = train_input.add(-0.5).pow(2).sum(1).sub(1 / (7)).multiply(-1).sign().add(1).div(2)\n",
    "\n",
    "valid_input = empty(valid_size, 2).uniform_(0,1)\n",
    "valid_target = valid_input.add(-0.5).pow(2).sum(1).sub(1 / (7)).multiply(-1).sign().add(1).div(2)\n",
    "\n",
    "test_input = empty(test_size, 2).uniform_(0,1)\n",
    "test_target = test_input.add(-0.5).pow(2).sum(1).sub(1 / (7)).multiply(-1).sign().add(1).div(2)"
   ]
  },
  {
   "cell_type": "markdown",
   "id": "pediatric-assumption",
   "metadata": {},
   "source": [
    "[Go to Benchamrking](#Benchmarking) with Pytorch"
   ]
  },
  {
   "cell_type": "code",
   "execution_count": 44,
   "id": "increasing-northwest",
   "metadata": {},
   "outputs": [],
   "source": [
    "#I dont know why we need this?\n",
    "class Module ( object ):\n",
    "    \n",
    "    def forward (self , input_ ):\n",
    "        return input_\n",
    "    def backward (self, grad):\n",
    "        \n",
    "        #Call backward() for previous module\n",
    "        if self.prev_module is not None:\n",
    "            prev_grads = self.prev_module.backward(grad)\n",
    "            \n",
    "    def param ( self ):\n",
    "        return []"
   ]
  },
  {
   "cell_type": "code",
   "execution_count": 45,
   "id": "grateful-edward",
   "metadata": {},
   "outputs": [],
   "source": [
    "class LossMSE(Module):\n",
    "    \n",
    "    def __init__(self, prev_module = None):\n",
    "        self.prev_module =  prev_module\n",
    "    \n",
    "    def set_truth(self,y_true):\n",
    "        self.y_true = y_true\n",
    "    \n",
    "    def forward (self , input_ ):\n",
    "        assert input_.shape[0] == self.y_true.shape[0], \"Batch size must match!\"\n",
    "        assert input_.shape[1] == self.y_true.shape[1], \"Input and output size must match!\"\n",
    "        self.curr_input = input_\n",
    "        return (self.y_true-input_).square().mean(1,True)  #Average per input not accross batches!\n",
    "    \n",
    "    def backward (self):\n",
    "        #Calculate gradient\n",
    "\n",
    "        grad = -2 *(self.y_true-self.curr_input) / (self.curr_input.shape[1])   #Divide by number of output samples not batch size     \n",
    "\n",
    "        #Call backward() for previous module\n",
    "        if self.prev_module is not None:\n",
    "            prev_grads = self.prev_module.backward(grad)\n",
    "    \n",
    "    def param ( self ):\n",
    "        return []\n",
    "    "
   ]
  },
  {
   "cell_type": "code",
   "execution_count": 46,
   "id": "acknowledged-passenger",
   "metadata": {},
   "outputs": [],
   "source": [
    "class ReLU(Module):\n",
    "    \n",
    "    def __init__(self, prev_module = None):\n",
    "        self.prev_module =  prev_module\n",
    "        self.curr_grad = 0 #Temporary\n",
    "\n",
    "    def forward (self , input_ ):\n",
    "        self.curr_grad = (input_ > 0)\n",
    "        return input_ * self.curr_grad\n",
    "        \n",
    "    def backward (self , gradwrtoutput):\n",
    "        #Calculate gradient\n",
    "        grad = self.curr_grad * gradwrtoutput\n",
    "        \n",
    "        #Call backward() for previous module\n",
    "        if self.prev_module is not None:\n",
    "            prev_grads = self.prev_module.backward(grad)\n",
    "    \n",
    "    def param ( self ):\n",
    "        return []\n",
    "    \n",
    "class Tanh(Module):\n",
    "    \n",
    "    def __init__(self, prev_module = None):\n",
    "        self.prev_module =  prev_module\n",
    "        self.curr_grad = 0 #Temporary\n",
    "\n",
    "    def forward (self , input_ ):\n",
    "        self.curr_grad = input_.tanh()\n",
    "        return self.curr_grad\n",
    "        \n",
    "    def backward (self , gradwrtoutput):\n",
    "        #Calculate gradient        \n",
    "        grad = self.curr_grad.tanh().pow(2).multiply(-1).add(1) * gradwrtoutput\n",
    "        \n",
    "        #Call backward() for previous module\n",
    "        if self.prev_module is not None:\n",
    "            prev_grads = self.prev_module.backward(grad)\n",
    "    \n",
    "    def param ( self ):\n",
    "        return []"
   ]
  },
  {
   "cell_type": "code",
   "execution_count": 50,
   "id": "living-trunk",
   "metadata": {},
   "outputs": [],
   "source": [
    "#TODO there is a bug in here somewhere\n",
    "class FCC(Module):\n",
    "    \n",
    "    def __init__(self, input_size, output_size, prev_module = None, lr=1e-1, N = None,init_weights = None):\n",
    "        self.input_size = input_size\n",
    "        self.output_size = output_size\n",
    "        self.prev_module =  prev_module\n",
    "\n",
    "        # Uniform initialization\n",
    "#         self.weights = empty(input_size, output_size).normal_(0, math.sqrt(2/(input_size + output_size)))\n",
    "        self.weights = empty(input_size, output_size).uniform_(-1* math.sqrt(1/input_size),math.sqrt(1/input_size) )\n",
    "        self.bias = empty(1,output_size).uniform_(-1* math.sqrt(1/input_size),math.sqrt(1/input_size) )\n",
    "        self.initial_weights = self.weights\n",
    "        self.curr_input = 0\n",
    "        self.lr = lr\n",
    "        self.batch_size = 1\n",
    "\n",
    "    def forward (self , input_ ):\n",
    "        assert input_.shape[1] == self.input_size, \"Input size must match!\" \n",
    "        out = input_ @ (self.weights) \n",
    "        out += self.bias\n",
    "        assert out.shape[1] == self.output_size, \"Output size must match!\" \n",
    "        assert out.shape[0] == input_.shape[0], \"Batch size is not consistent!\"\n",
    "        self.curr_input = input_\n",
    "        self.batch_size = input_.shape[0]\n",
    "        return out\n",
    "        \n",
    "    def backward (self , gradwrtoutput):\n",
    "        #Calculate gradient\n",
    "        grad = gradwrtoutput @ (self.weights.T)\n",
    "        \n",
    "        #update weights\n",
    "        self.update(gradwrtoutput, self.lr)  #This is the correct version\n",
    "        #self.update(grad, self.lr)\n",
    "        \n",
    "        #Call backward() for previous module\n",
    "        if self.prev_module is not None:\n",
    "            prev_grads = self.prev_module.backward(grad)\n",
    "    \n",
    "    def update(self, gradwrtoutput, learning_rate):\n",
    "        self.weights -= learning_rate * ( self.curr_input.T @ gradwrtoutput ) / self.batch_size\n",
    "        self.bias -= learning_rate * gradwrtoutput.mean(0,True)\n",
    "        \n",
    "    def param ( self ):\n",
    "        return [self.weights, self.bias]\n",
    "    \n",
    "    def initials(self):\n",
    "        return self.initial_weights\n",
    "    "
   ]
  },
  {
   "cell_type": "code",
   "execution_count": 51,
   "id": "soviet-houston",
   "metadata": {},
   "outputs": [],
   "source": [
    "class NN_builder():\n",
    "    \n",
    "    def __init__(self):\n",
    "        self.layers = []\n",
    "        layer0 = FCC(2,10)\n",
    "        self.layers.append(layer0)\n",
    "        layer1 = ReLU(layer0)\n",
    "        self.layers.append(layer1)\n",
    "        layer2 = FCC(10,1, prev_module = layer1)\n",
    "        self.layers.append(layer2)\n",
    "        layer3 = ReLU(layer2)\n",
    "        self.layers.append(layer3)\n",
    "        layer4 = LossMSE(layer3)\n",
    "        self.layers.append(layer4)\n",
    "    \n",
    "    def model_train(self,input_, g_truth):\n",
    "        curr = input_\n",
    "        self.layers[-1].set_truth(g_truth)\n",
    "        for layer in self.layers:\n",
    "            curr = layer.forward(curr)\n",
    "        self.layers[-1].backward()        \n",
    "        \n",
    "    def model_eval(self,input_):\n",
    "        curr = input_\n",
    "        for layer in self.layers[:-1]:\n",
    "            curr = layer.forward(curr)\n",
    "            #print(curr)\n",
    "        return curr\n",
    "    "
   ]
  },
  {
   "cell_type": "code",
   "execution_count": 52,
   "id": "cellular-education",
   "metadata": {},
   "outputs": [],
   "source": [
    "class Sequential(object):\n",
    "    def __init__(self, layer_list, arguments, loss='MSE', lr = 2 * 1e-2):\n",
    "        self.layers = []\n",
    "        last_layer = None        \n",
    "        for idx ,layer_name in enumerate(layer_list):\n",
    "            if(layer_name == 'FCC'):\n",
    "                assert arguments[idx] != [], \"FCC requires a tuple as input!\"\n",
    "                curr_layer =FCC(arguments[idx][0], arguments[idx][1], last_layer, lr=lr)\n",
    "                self.inits = curr_layer.initials()\n",
    "                self.layers.append(curr_layer)\n",
    "                last_layer = curr_layer\n",
    "            elif(layer_name == 'ReLU'):\n",
    "                assert arguments[idx] == [], \"Relu requires no input!\"\n",
    "                curr_layer = ReLU(last_layer)\n",
    "                self.layers.append(curr_layer)\n",
    "                last_layer = curr_layer\n",
    "            elif(layer_name == 'Tanh'):\n",
    "                assert arguments[idx] == [], \"Tanh requires no input!\"\n",
    "                \n",
    "                curr_layer = Tanh(last_layer)\n",
    "                self.layers.append(curr_layer)\n",
    "                last_layer = curr_layer\n",
    "            else:\n",
    "                raise Exception(\"No Module matches the input\")\n",
    "\n",
    "        if loss == 'MSE':\n",
    "            curr_layer = LossMSE(last_layer)\n",
    "            self.layers.append(curr_layer)\n",
    "        else:\n",
    "            raise Exception(\"No Loss matches the input\")\n",
    "                \n",
    "    def train(self,input_, g_truth):\n",
    "        out = input_\n",
    "        self.layers[-1].set_truth(g_truth)\n",
    "        for layer in self.layers[:-1]:\n",
    "            out = layer.forward(out)\n",
    "        loss = self.layers[-1].forward(out)\n",
    "        self.layers[-1].backward()  \n",
    "        return out,loss.mean()\n",
    "        \n",
    "    def eval(self,input_):\n",
    "        out = input_\n",
    "        for layer in self.layers[:-1]:\n",
    "            out = layer.forward(out)\n",
    "        return out\n",
    "    \n",
    "    def get_inits(self):\n",
    "        return self.inits"
   ]
  },
  {
   "cell_type": "markdown",
   "id": "sunrise-watts",
   "metadata": {},
   "source": [
    "### These two are just for a quick check I know they are terrible :D"
   ]
  },
  {
   "cell_type": "code",
   "execution_count": 53,
   "id": "funny-interest",
   "metadata": {},
   "outputs": [],
   "source": [
    "def stupid_test_function(a,b):\n",
    "    if a == 0 or b == 0:\n",
    "        return 0\n",
    "    else:\n",
    "        return 1"
   ]
  },
  {
   "cell_type": "code",
   "execution_count": 54,
   "id": "suited-intervention",
   "metadata": {},
   "outputs": [],
   "source": [
    "def stupid_acc_func(pred,true):\n",
    "    pred = pred.item() > 0.5\n",
    "    return (pred == true.item())\n",
    "    "
   ]
  },
  {
   "cell_type": "code",
   "execution_count": 55,
   "id": "pursuant-sharing",
   "metadata": {},
   "outputs": [],
   "source": [
    "import torch"
   ]
  },
  {
   "cell_type": "code",
   "execution_count": 64,
   "id": "polyphonic-murder",
   "metadata": {},
   "outputs": [],
   "source": [
    "def modelTrainer(train_input,train_target,test_input,test_target,test_size):\n",
    "    seq = Sequential([\"FCC\",\"ReLU\",\"FCC\"],[[2,8],[], [8,1]],\"MSE\")\n",
    "    loss_track = []\n",
    "    for epoch in range(1000):\n",
    "        minibatch = 200\n",
    "        for i in range(0, train_input.size(0), minibatch):\n",
    "            out,loss = seq.train(train_input.narrow(0, i, minibatch), train_target.narrow(0, i, minibatch).unsqueeze(1))\n",
    "        if epoch %200 == 0:\n",
    "            print(\"Loss:\", loss.item())\n",
    "        loss_track.append(loss)\n",
    "    plt.figure()\n",
    "    plt.plot(loss_track)\n",
    "    print(\"---------------------------------\")\n",
    "    acc = 0\n",
    "    count = 0\n",
    "    for i in range(test_size):\n",
    "        truth = test_target[i].unsqueeze(0).unsqueeze(1)\n",
    "        inp = test_input[i,:].unsqueeze(0)\n",
    "        out = seq.eval(inp)\n",
    "        #print(out)\n",
    "        if stupid_acc_func(out,truth):\n",
    "            acc = acc + 1\n",
    "    return seq, acc /test_size"
   ]
  },
  {
   "cell_type": "code",
   "execution_count": 65,
   "id": "alive-september",
   "metadata": {},
   "outputs": [
    {
     "name": "stdout",
     "output_type": "stream",
     "text": [
      "Loss: 0.7210690379142761\n",
      "Loss: 0.23924045264720917\n",
      "Loss: 0.21720457077026367\n",
      "Loss: 0.20015232264995575\n",
      "Loss: 0.17859716713428497\n",
      "---------------------------------\n",
      "Loss: 0.27773746848106384\n",
      "Loss: 0.23824766278266907\n",
      "Loss: 0.21514342725276947\n",
      "Loss: 0.18695978820323944\n",
      "Loss: 0.16098681092262268\n",
      "---------------------------------\n",
      "Loss: 0.3982160985469818\n",
      "Loss: 0.20538273453712463\n",
      "Loss: 0.153428852558136\n",
      "Loss: 0.11183231323957443\n",
      "Loss: 0.09283115714788437\n",
      "---------------------------------\n",
      "Loss: 0.6623542904853821\n",
      "Loss: 0.20270128548145294\n",
      "Loss: 0.1343614161014557\n",
      "Loss: 0.09391167759895325\n",
      "Loss: 0.0839838758111\n",
      "---------------------------------\n",
      "Loss: 0.29579591751098633\n",
      "Loss: 0.24217037856578827\n",
      "Loss: 0.23200301826000214\n",
      "Loss: 0.20502226054668427\n",
      "Loss: 0.18697276711463928\n",
      "---------------------------------\n",
      "Loss: 0.33906441926956177\n",
      "Loss: 0.23753249645233154\n",
      "Loss: 0.22809499502182007\n",
      "Loss: 0.22375813126564026\n",
      "Loss: 0.2139124870300293\n",
      "---------------------------------\n",
      "Loss: 0.8919556140899658\n",
      "Loss: 0.22880858182907104\n",
      "Loss: 0.19139458239078522\n",
      "Loss: 0.15696419775485992\n",
      "Loss: 0.10971856862306595\n",
      "---------------------------------\n",
      "Loss: 0.2771104574203491\n",
      "Loss: 0.22519049048423767\n",
      "Loss: 0.19845888018608093\n",
      "Loss: 0.1354653388261795\n",
      "Loss: 0.0952422022819519\n",
      "---------------------------------\n",
      "Loss: 0.3819570541381836\n",
      "Loss: 0.23733928799629211\n",
      "Loss: 0.21743659675121307\n",
      "Loss: 0.19430090487003326\n",
      "Loss: 0.1792953461408615\n",
      "---------------------------------\n",
      "Loss: 0.4113093912601471\n",
      "Loss: 0.2216312289237976\n",
      "Loss: 0.18157215416431427\n",
      "Loss: 0.14288821816444397\n",
      "Loss: 0.11762486398220062\n",
      "---------------------------------\n"
     ]
    },
    {
     "data": {
      "text/plain": [
       "0.945"
      ]
     },
     "execution_count": 65,
     "metadata": {},
     "output_type": "execute_result"
    },
    {
     "data": {
      "image/png": "[encoded data removed]",
      "text/plain": [
       "<Figure size 432x288 with 1 Axes>"
      ]
     },
     "metadata": {
      "needs_background": "light"
     },
     "output_type": "display_data"
    },
    {
     "data": {
      "image/png": "[encoded data removed]",
      "text/plain": [
       "<Figure size 432x288 with 1 Axes>"
      ]
     },
     "metadata": {
      "needs_background": "light"
     },
     "output_type": "display_data"
    },
    {
     "data": {
      "image/png": "[encoded data removed]",
      "text/plain": [
       "<Figure size 432x288 with 1 Axes>"
      ]
     },
     "metadata": {
      "needs_background": "light"
     },
     "output_type": "display_data"
    },
    {
     "data": {
      "image/png": "[encoded data removed]",
      "text/plain": [
       "<Figure size 432x288 with 1 Axes>"
      ]
     },
     "metadata": {
      "needs_background": "light"
     },
     "output_type": "display_data"
    },
    {
     "data": {
      "image/png": "[encoded data removed]",
      "text/plain": [
       "<Figure size 432x288 with 1 Axes>"
      ]
     },
     "metadata": {
      "needs_background": "light"
     },
     "output_type": "display_data"
    },
    {
     "data": {
      "image/png": "[encoded data removed]",
      "text/plain": [
       "<Figure size 432x288 with 1 Axes>"
      ]
     },
     "metadata": {
      "needs_background": "light"
     },
     "output_type": "display_data"
    },
    {
     "data": {
      "image/png": "[encoded data removed]",
      "text/plain": [
       "<Figure size 432x288 with 1 Axes>"
      ]
     },
     "metadata": {
      "needs_background": "light"
     },
     "output_type": "display_data"
    },
    {
     "data": {
      "image/png": "[encoded data removed]",
      "text/plain": [
       "<Figure size 432x288 with 1 Axes>"
      ]
     },
     "metadata": {
      "needs_background": "light"
     },
     "output_type": "display_data"
    },
    {
     "data": {
      "image/png": "[encoded data removed]",
      "text/plain": [
       "<Figure size 432x288 with 1 Axes>"
      ]
     },
     "metadata": {
      "needs_background": "light"
     },
     "output_type": "display_data"
    },
    {
     "data": {
      "image/png": "[encoded data removed]",
      "text/plain": [
       "<Figure size 432x288 with 1 Axes>"
      ]
     },
     "metadata": {
      "needs_background": "light"
     },
     "output_type": "display_data"
    }
   ],
   "source": [
    "train_size = 1000\n",
    "test_size = 200\n",
    "valid_size = 100\n",
    "train_input = empty(train_size, 2).uniform_(0,1)\n",
    "train_target = train_input.add(-0.5).pow(2).sum(1).sub(1 / (7)).multiply(-1).sign().add(1).div(2)\n",
    "\n",
    "valid_input = empty(valid_size, 2).uniform_(0,1)\n",
    "valid_target = valid_input.add(-0.5).pow(2).sum(1).sub(1 / (7)).multiply(-1).sign().add(1).div(2)\n",
    "\n",
    "test_input = empty(test_size, 2).uniform_(0,1)\n",
    "test_target = test_input.add(-0.5).pow(2).sum(1).sub(1 / (7)).multiply(-1).sign().add(1).div(2)\n",
    "\n",
    "\n",
    "\n",
    "models = []\n",
    "best_acc = 0\n",
    "curr_acc = 0\n",
    "best_idx = -1\n",
    "for idx in range(10):    \n",
    "    model,curr_acc = modelTrainer(train_input,train_target,valid_input,valid_target,valid_size) \n",
    "    models.append(model)\n",
    "    if (curr_acc > best_acc):\n",
    "        best_acc = curr_acc\n",
    "        best_idx = idx\n",
    "\n",
    "acc = 0\n",
    "count = 0\n",
    "for i in range(test_size):\n",
    "    truth = test_target[i].unsqueeze(0).unsqueeze(1)\n",
    "    inp = test_input[i,:].unsqueeze(0)\n",
    "    out = models[best_idx].eval(inp)\n",
    "    #print(out)\n",
    "    if stupid_acc_func(out,truth):\n",
    "        acc = acc + 1\n",
    "acc /test_size"
   ]
  },
  {
   "cell_type": "code",
   "execution_count": 62,
   "id": "worldwide-xerox",
   "metadata": {},
   "outputs": [
    {
     "data": {
      "text/plain": [
       "5"
      ]
     },
     "execution_count": 62,
     "metadata": {},
     "output_type": "execute_result"
    }
   ],
   "source": [
    "best_idx"
   ]
  },
  {
   "cell_type": "code",
   "execution_count": 63,
   "id": "prepared-money",
   "metadata": {},
   "outputs": [
    {
     "data": {
      "text/plain": [
       "tensor([0., 1., 1., 1., 0., 1., 1., 1., 1., 0., 0., 1., 0., 0., 0., 0., 0., 1.,\n",
       "        1., 1., 1., 1., 1., 0., 1., 1., 0., 1., 0., 1., 0., 1., 0., 0., 0., 1.,\n",
       "        0., 0., 1., 1., 0., 0., 0., 1., 0., 0., 1., 1., 1., 0., 1., 0., 1., 1.,\n",
       "        0., 1., 0., 1., 1., 0., 1., 1., 0., 0., 1., 1., 0., 0., 1., 1., 1., 0.,\n",
       "        0., 0., 1., 1., 1., 0., 0., 1., 1., 1., 1., 1., 1., 1., 0., 0., 1., 1.,\n",
       "        1., 1., 0., 0., 1., 0., 0., 1., 0., 0., 0., 0., 0., 0., 0., 0., 0., 0.,\n",
       "        1., 0., 1., 1., 1., 0., 0., 0., 1., 1., 1., 1., 0., 0., 1., 1., 1., 1.,\n",
       "        0., 0., 1., 0., 0., 0., 0., 0., 1., 1., 1., 0., 0., 1., 0., 1., 1., 1.,\n",
       "        0., 1., 0., 0., 0., 1., 1., 1., 0., 0., 0., 1., 1., 0., 0., 0., 0., 0.,\n",
       "        0., 0., 0., 0., 1., 1., 0., 1., 0., 1., 0., 1., 0., 0., 0., 1., 0., 0.,\n",
       "        1., 0., 0., 1., 0., 0., 0., 0., 0., 0., 1., 1., 0., 1., 0., 1., 0., 0.,\n",
       "        1., 1.])"
      ]
     },
     "execution_count": 63,
     "metadata": {},
     "output_type": "execute_result"
    }
   ],
   "source": [
    "test_target"
   ]
  },
  {
   "cell_type": "code",
   "execution_count": 207,
   "id": "unable-cream",
   "metadata": {},
   "outputs": [
    {
     "data": {
      "text/plain": [
       "0.7"
      ]
     },
     "execution_count": 207,
     "metadata": {},
     "output_type": "execute_result"
    }
   ],
   "source": [
    "builder = NN_builder()\n",
    "test = empty(1000,2).random_(0,2)\n",
    "for i in range(1000):\n",
    "    truth = empty(1,1).fill_(stupid_test_function(test[i,0],test[i,1]))\n",
    "    inp = test[i,:].unsqueeze(0)\n",
    "    out = builder.model_train(inp,truth)\n",
    "    \n",
    "test2 = empty(100,2).random_(0,2)\n",
    "acc = 0\n",
    "count = 0\n",
    "for i in range(100):\n",
    "    truth = empty(1,1).fill_(stupid_test_function(test2[i,0],test2[i,1]))\n",
    "    inp = test2[i,:].unsqueeze(0)\n",
    "    out = builder.model_eval(inp)\n",
    "    #print(out)\n",
    "    if out.item() > 0.5:\n",
    "        count = count + 1\n",
    "    if stupid_acc_func(out,truth):\n",
    "        acc = acc + 1\n",
    "acc /100"
   ]
  },
  {
   "cell_type": "markdown",
   "id": "three-secretariat",
   "metadata": {},
   "source": [
    "### Benchmarking"
   ]
  },
  {
   "cell_type": "code",
   "execution_count": 59,
   "id": "creative-choir",
   "metadata": {},
   "outputs": [
    {
     "data": {
      "image/png": "[encoded data removed]",
      "text/plain": [
       "<Figure size 432x288 with 1 Axes>"
      ]
     },
     "metadata": {
      "needs_background": "light"
     },
     "output_type": "display_data"
    }
   ],
   "source": [
    "from torch import optim, Tensor, nn\n",
    "from torch import Tensor\n",
    "from torch import nn\n",
    "import torch\n",
    "import numpy as np\n",
    "import matplotlib.pyplot as plt\n",
    "torch.set_grad_enabled(True)\n",
    "\n",
    "def create_model():\n",
    "    return nn.Sequential(\n",
    "        nn.Linear(2, 8),\n",
    "        nn.ReLU(),\n",
    "        nn.Linear(8, 1),\n",
    "#         nn.ReLU(),\n",
    "    )\n",
    "\n",
    "def train_model(model, train_input, train_target):\n",
    "    loss_track = []\n",
    "    loss_func = nn.MSELoss()\n",
    "    optimizer = optim.SGD(model.parameters(), lr = 0.1)\n",
    "    mini_batch = 200\n",
    "    # Iterate through epochs\n",
    "    for i in range(1000):\n",
    "        #Iterate t hrough mini batches\n",
    "        for b in range(0, train_input.size(0), mini_batch):\n",
    "            # Forward pass selecting the corresponding minibacth\n",
    "            output = model(train_input.narrow(0, b, mini_batch))\n",
    "            # Calculate loss\n",
    "            loss = loss_func(output.squeeze(), train_target.narrow(0, b, mini_batch))\n",
    "#             print(\"Loss:\", loss.item())\n",
    "            # Reset zero grad\n",
    "            model.zero_grad()\n",
    "            # Backward pass\n",
    "            loss.backward()\n",
    "            #Update step\n",
    "            optimizer.step()\n",
    "        loss_track.append(loss)\n",
    "    plt.plot(loss_track)\n",
    "    \n",
    "def compute_nb_errors(model, data_input, data_target):\n",
    "        output = model(data_input)\n",
    "        comp = output.argmax(dim = 1) != data_target.argmax(dim = 1)\n",
    "        nb_errors = torch.where(comp)[0].size()[0]\n",
    "        error_rate = nb_errors/data_input.size(0)\n",
    "        print(f'There were a total of {nb_errors} errors, or {error_rate} of the testing set.')\n",
    "        \n",
    "        \n",
    "model = create_model()\n",
    "train_model(model, train_input, train_target)\n",
    "# compute_nb_errors(model, test_input, test_target)"
   ]
  },
  {
   "cell_type": "code",
   "execution_count": null,
   "id": "controversial-equipment",
   "metadata": {},
   "outputs": [],
   "source": []
  }
 ],
 "metadata": {
  "kernelspec": {
   "display_name": "Python 3",
   "language": "python",
   "name": "python3"
  },
  "language_info": {
   "codemirror_mode": {
    "name": "ipython",
    "version": 3
   },
   "file_extension": ".py",
   "mimetype": "text/x-python",
   "name": "python",
   "nbconvert_exporter": "python",
   "pygments_lexer": "ipython3",
   "version": "3.7.9"
  }
 },
 "nbformat": 4,
 "nbformat_minor": 5
}
