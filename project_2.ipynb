{
 "cells": [
  {
   "cell_type": "code",
   "execution_count": 14,
   "id": "6925bf05",
   "metadata": {},
   "outputs": [],
   "source": [
    "from torch import empty"
   ]
  },
  {
   "cell_type": "code",
   "execution_count": 15,
   "id": "2e572ad1",
   "metadata": {},
   "outputs": [
    {
     "data": {
      "text/plain": [
       "torch.Size([10, 10])"
      ]
     },
     "execution_count": 15,
     "metadata": {},
     "output_type": "execute_result"
    }
   ],
   "source": [
    "empty(10,10).shape"
   ]
  },
  {
   "cell_type": "code",
   "execution_count": 17,
   "id": "d3fc09c8",
   "metadata": {},
   "outputs": [],
   "source": [
    "#I dont know why we need this?\n",
    "class Module ( object ):\n",
    "    \n",
    "    def forward (self , input_ ):\n",
    "        return input_\n",
    "    def backward (self, grad):\n",
    "        \n",
    "        #Call backward() for previous module\n",
    "        if self.prev_module is not None:\n",
    "            prev_grads = self.prev_module.backward(grad)\n",
    "            \n",
    "    def param ( self ):\n",
    "        return []"
   ]
  },
  {
   "cell_type": "code",
   "execution_count": 18,
   "id": "0bfbae69",
   "metadata": {},
   "outputs": [],
   "source": [
    "class LossMSE(Module):\n",
    "    \n",
    "    def __init__(self, prev_module = None):\n",
    "\n",
    "        self.prev_module =  prev_module\n",
    "        \n",
    "    def set_truth(self,y_true):\n",
    "        self.y_true = y_true\n",
    "        \n",
    "    def forward (self , input_ ):\n",
    "        assert input_.shape[1] == self.y_true.shape[1], \"Input and output size must match!\"\n",
    "        self.curr_input = input_\n",
    "        return (self.y_true-input_).square().mean()\n",
    "        \n",
    "    def backward (self):\n",
    "        #Calculate gradient\n",
    "        grad = -2 *(self.y_true-self.curr_input) / (self.curr_input.shape[1])        \n",
    "        \n",
    "        #Call backward() for previous module\n",
    "        if self.prev_module is not None:\n",
    "            prev_grads = self.prev_module.backward(grad)\n",
    "    \n",
    "    def param ( self ):\n",
    "        return []\n",
    "    "
   ]
  },
  {
   "cell_type": "code",
   "execution_count": 19,
   "id": "b5a2a79a",
   "metadata": {},
   "outputs": [],
   "source": [
    "class ReLU(Module):\n",
    "    \n",
    "    def __init__(self, prev_module = None):\n",
    "        self.prev_module =  prev_module\n",
    "        self.curr_grad = 0 #Temporary\n",
    "\n",
    "    def forward (self , input_ ):\n",
    "        self.curr_grad = (input_ > 0)\n",
    "        return input_ * self.curr_grad\n",
    "        \n",
    "    def backward (self , gradwrtoutput):\n",
    "        #Calculate gradient\n",
    "        grad = self.curr_grad * gradwrtoutput\n",
    "        \n",
    "        #Call backward() for previous module\n",
    "        if self.prev_module is not None:\n",
    "            prev_grads = self.prev_module.backward(grad)\n",
    "    \n",
    "    def param ( self ):\n",
    "        return []"
   ]
  },
  {
   "cell_type": "code",
   "execution_count": null,
   "id": "04a0e2d9",
   "metadata": {},
   "outputs": [],
   "source": []
  },
  {
   "cell_type": "code",
   "execution_count": 20,
   "id": "fe2e921c",
   "metadata": {},
   "outputs": [],
   "source": [
    "class FCC(Module):\n",
    "    \n",
    "    def __init__(self, input_size, output_size, prev_module = None):\n",
    "        self.input_size = input_size\n",
    "        self.output_size = output_size\n",
    "        self.prev_module =  prev_module\n",
    "        self.weights = empty(input_size,output_size).fill_(0.1) #TODO better init\n",
    "        self.bias = empty(1,output_size).fill_(0.1) #TODO better init\n",
    "        self.curr_input = 0\n",
    "\n",
    "    def forward (self , input_ ):\n",
    "        assert input_.shape[1] == self.input_size, \"Input size must match!\" \n",
    "        #print(\"input size:\", input_.shape)\n",
    "        #print(\"self.weights size:\", self.weights.shape)\n",
    "        out = input_ @ (self.weights) \n",
    "        #print(\"biass size:\", self.bias.shape)\n",
    "        #print(\"out size:\", out.shape)\n",
    "        out += self.bias\n",
    "        assert out.shape[1] == self.output_size, \"Output size must match!\" \n",
    "        self.curr_input = input_\n",
    "        return out\n",
    "        \n",
    "    def backward (self , gradwrtoutput):\n",
    "        #Calculate gradient\n",
    "        grad = gradwrtoutput.multiply(self.weights)\n",
    "        \n",
    "        #update weights\n",
    "        self.update(gradwrtoutput,0.05) #TODO learning rate\n",
    "        \n",
    "        #Call backward() for previous module\n",
    "        if self.prev_module is not None:\n",
    "            prev_grads = self.prev_module.backward(grad)\n",
    "    \n",
    "    def update(self,gradwrtoutput,learning_rate):\n",
    "        self.weights -= learning_rate * ((self.curr_input.T) @ gradwrtoutput )\n",
    "        self.bias -= learning_rate * gradwrtoutput\n",
    "        \n",
    "    def param ( self ):\n",
    "        return [self.weights, self.bias]\n",
    "    "
   ]
  },
  {
   "cell_type": "code",
   "execution_count": 21,
   "id": "5b891652",
   "metadata": {},
   "outputs": [],
   "source": [
    "class NN_builder():\n",
    "    \n",
    "    def __init__(self):\n",
    "        self.layers = []\n",
    "        layer0 = FCC(2,1)\n",
    "        self.layers.append(layer0)\n",
    "        layer1 = ReLU(layer0)\n",
    "        self.layers.append(layer1)\n",
    "        layer2 = LossMSE(layer1)\n",
    "        self.layers.append(layer2)\n",
    "    \n",
    "    def model_train(self,input_, g_truth):\n",
    "        curr = input_\n",
    "        self.layers[-1].set_truth(g_truth)\n",
    "        for layer in self.layers:\n",
    "            curr = layer.forward(curr)\n",
    "        self.layers[-1].backward()        \n",
    "        \n",
    "    def model_eval(self,input_):\n",
    "        curr = input_\n",
    "        for layer in self.layers[:-1]:\n",
    "            curr = layer.forward(curr)\n",
    "            #print(curr)\n",
    "        return curr\n",
    "    "
   ]
  },
  {
   "cell_type": "code",
   "execution_count": 104,
   "id": "415e3f4f",
   "metadata": {},
   "outputs": [],
   "source": [
    "class Sequential():\n",
    "    \n",
    "    def __init__(self,layer_list,arguments,loss):\n",
    "        self.layers = []\n",
    "        last_layer = None\n",
    "        for idx ,layer_name in enumerate(layer_list):\n",
    "            if(layer_name == 'FCC'):\n",
    "                assert arguments[idx] != [], \"FCC requires a tuple as input!\"\n",
    "                curr_layer =FCC(arguments[idx][0],arguments[idx][1],last_layer)\n",
    "                self.layers.append(curr_layer)\n",
    "                last_layer = curr_layer\n",
    "            elif(layer_name == 'ReLU'):\n",
    "                assert arguments[idx] == [], \"Relu requires no input!\"\n",
    "                curr_layer = ReLU(last_layer)\n",
    "                self.layers.append(curr_layer)\n",
    "                last_layer = curr_layer\n",
    "            else:\n",
    "                raise Exception(\"No Module matches the input\")\n",
    "\n",
    "        if (loss == 'MSE'):\n",
    "            curr_layer = LossMSE(last_layer)\n",
    "            self.layers.append(curr_layer)\n",
    "        else:\n",
    "            raise Exception(\"No Loss matches the input\")\n",
    "                \n",
    "    def train(self,input_, g_truth):\n",
    "        out = input_\n",
    "        self.layers[-1].set_truth(g_truth)\n",
    "        for layer in self.layers[:-1]:\n",
    "            out = layer.forward(out)\n",
    "        loss = self.layers[-1].forward(out)\n",
    "        self.layers[-1].backward()  \n",
    "        return out,loss\n",
    "        \n",
    "    def eval(self,input_):\n",
    "        out = input_\n",
    "        for layer in self.layers[:-1]:\n",
    "            out = layer.forward(out)\n",
    "        return out"
   ]
  },
  {
   "cell_type": "code",
   "execution_count": 105,
   "id": "d2db2077",
   "metadata": {},
   "outputs": [],
   "source": [
    "test = empty(1,2).fill_(5)\n",
    "truth = empty(1,1).fill_(10)"
   ]
  },
  {
   "cell_type": "code",
   "execution_count": 106,
   "id": "e9f97feb",
   "metadata": {},
   "outputs": [
    {
     "data": {
      "text/plain": [
       "torch.Size([1, 1])"
      ]
     },
     "execution_count": 106,
     "metadata": {},
     "output_type": "execute_result"
    }
   ],
   "source": [
    "truth.shape"
   ]
  },
  {
   "cell_type": "code",
   "execution_count": 107,
   "id": "fe6275ae",
   "metadata": {},
   "outputs": [],
   "source": [
    "builder = NN_builder()"
   ]
  },
  {
   "cell_type": "code",
   "execution_count": 108,
   "id": "5d58a15e",
   "metadata": {},
   "outputs": [],
   "source": [
    "out = builder.model_train(test,truth)"
   ]
  },
  {
   "cell_type": "markdown",
   "id": "7ca3c816",
   "metadata": {},
   "source": [
    "### These two are just for a quick check I know they are terrible :D"
   ]
  },
  {
   "cell_type": "code",
   "execution_count": 109,
   "id": "320eb7e6",
   "metadata": {},
   "outputs": [],
   "source": [
    "def stupid_test_function(a,b):\n",
    "    if a == 0 or b == 0:\n",
    "        return 0\n",
    "    else:\n",
    "        return 1"
   ]
  },
  {
   "cell_type": "code",
   "execution_count": 110,
   "id": "97f19d94",
   "metadata": {},
   "outputs": [],
   "source": [
    "def stupid_acc_func(pred,true):\n",
    "    pred = pred.item() > 0.9\n",
    "    return (pred == true.item())\n",
    "    "
   ]
  },
  {
   "cell_type": "code",
   "execution_count": 115,
   "id": "db49abb6",
   "metadata": {},
   "outputs": [
    {
     "data": {
      "text/plain": [
       "1.0"
      ]
     },
     "execution_count": 115,
     "metadata": {},
     "output_type": "execute_result"
    }
   ],
   "source": [
    "seq = Sequential([\"FCC\",\"ReLU\"],[[2,1],[]],\"MSE\")\n",
    "test = empty(1000,2).random_(0,2)\n",
    "for i in range(1000):\n",
    "    truth = empty(1,1).fill_(stupid_test_function(test[i,0],test[i,1]))\n",
    "    inp = test[i,:].unsqueeze(0)\n",
    "    out,_ = seq.train(inp,truth)\n",
    "    \n",
    "test2 = empty(100,2).random_(0,2)\n",
    "acc = 0\n",
    "count = 0\n",
    "for i in range(100):\n",
    "    truth = empty(1,1).fill_(stupid_test_function(test2[i,0],test2[i,1]))\n",
    "    inp = test2[i,:].unsqueeze(0)\n",
    "    out = seq.eval(inp)\n",
    "    if out.item() != 0:\n",
    "        count = count + 1\n",
    "    if stupid_acc_func(out,truth):\n",
    "        acc = acc + 1\n",
    "acc /100"
   ]
  },
  {
   "cell_type": "code",
   "execution_count": 116,
   "id": "3fc7d1ea",
   "metadata": {},
   "outputs": [
    {
     "data": {
      "text/plain": [
       "81"
      ]
     },
     "execution_count": 116,
     "metadata": {},
     "output_type": "execute_result"
    }
   ],
   "source": [
    "count"
   ]
  },
  {
   "cell_type": "code",
   "execution_count": 88,
   "id": "e0129a34",
   "metadata": {},
   "outputs": [
    {
     "data": {
      "text/plain": [
       "1.0"
      ]
     },
     "execution_count": 88,
     "metadata": {},
     "output_type": "execute_result"
    }
   ],
   "source": [
    "builder = NN_builder()\n",
    "test = empty(1000,2).random_(0,2)\n",
    "for i in range(1000):\n",
    "    truth = empty(1,1).fill_(stupid_test_function(test[i,0],test[i,1]))\n",
    "    inp = test[i,:].unsqueeze(0)\n",
    "    out = builder.model_train(inp,truth)\n",
    "    \n",
    "test2 = empty(100,2).random_(0,2)\n",
    "acc = 0\n",
    "count = 0\n",
    "for i in range(100):\n",
    "    truth = empty(1,1).fill_(stupid_test_function(test2[i,0],test2[i,1]))\n",
    "    inp = test2[i,:].unsqueeze(0)\n",
    "    out = builder.model_eval(inp)\n",
    "    if out.item() != 0:\n",
    "        count = count + 1\n",
    "    if stupid_acc_func(out,truth):\n",
    "        acc = acc + 1\n",
    "acc /100"
   ]
  },
  {
   "cell_type": "code",
   "execution_count": 30,
   "id": "7de4e662",
   "metadata": {},
   "outputs": [
    {
     "name": "stdout",
     "output_type": "stream",
     "text": [
      "out: 0.9919400811195374\n",
      "truth: 1.0\n"
     ]
    }
   ],
   "source": [
    "    print(\"out:\", out.item() )\n",
    "    print(\"truth:\", truth.item() )"
   ]
  },
  {
   "cell_type": "code",
   "execution_count": null,
   "id": "fee0c88f",
   "metadata": {},
   "outputs": [],
   "source": []
  }
 ],
 "metadata": {
  "kernelspec": {
   "display_name": "Python 3",
   "language": "python",
   "name": "python3"
  },
  "language_info": {
   "codemirror_mode": {
    "name": "ipython",
    "version": 3
   },
   "file_extension": ".py",
   "mimetype": "text/x-python",
   "name": "python",
   "nbconvert_exporter": "python",
   "pygments_lexer": "ipython3",
   "version": "3.7.4"
  }
 },
 "nbformat": 4,
 "nbformat_minor": 5
}
