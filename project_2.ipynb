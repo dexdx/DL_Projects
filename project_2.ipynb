{
 "cells": [
  {
   "cell_type": "code",
   "execution_count": 1,
   "id": "material-development",
   "metadata": {},
   "outputs": [],
   "source": [
    "from torch import empty\n",
    "import math\n",
    "from FC_module import LossMSE, ReLU, Tanh, Sigmoid, FCC, Sequential"
   ]
  },
  {
   "cell_type": "code",
   "execution_count": 2,
   "id": "harmful-treaty",
   "metadata": {},
   "outputs": [],
   "source": [
    "train_size = 1000\n",
    "test_size = 200\n",
    "valid_size = 100\n",
    "train_input = empty(train_size, 2).uniform_(0,1)\n",
    "train_target = train_input.add(-0.5).pow(2).sum(1).sub(1 / (7)).multiply(-1).sign().add(1).div(2)\n",
    "\n",
    "valid_input = empty(valid_size, 2).uniform_(0,1)\n",
    "valid_target = valid_input.add(-0.5).pow(2).sum(1).sub(1 / (7)).multiply(-1).sign().add(1).div(2)\n",
    "\n",
    "test_input = empty(test_size, 2).uniform_(0,1)\n",
    "test_target = test_input.add(-0.5).pow(2).sum(1).sub(1 / (7)).multiply(-1).sign().add(1).div(2)"
   ]
  },
  {
   "cell_type": "markdown",
   "id": "pediatric-assumption",
   "metadata": {},
   "source": [
    "[Go to Benchamrking](#Benchmarking) with Pytorch"
   ]
  },
  {
   "cell_type": "markdown",
   "id": "sunrise-watts",
   "metadata": {},
   "source": [
    "### These two are just for a quick check I know they are terrible :D"
   ]
  },
  {
   "cell_type": "code",
   "execution_count": 3,
   "id": "funny-interest",
   "metadata": {},
   "outputs": [],
   "source": [
    "def stupid_test_function(a,b):\n",
    "    if a == 0 or b == 0:\n",
    "        return 0\n",
    "    else:\n",
    "        return 1"
   ]
  },
  {
   "cell_type": "code",
   "execution_count": 4,
   "id": "suited-intervention",
   "metadata": {},
   "outputs": [],
   "source": [
    "def stupid_acc_func(pred,true):\n",
    "    pred = pred.item() > 0.5\n",
    "    return (pred == true.item())\n",
    "    "
   ]
  },
  {
   "cell_type": "code",
   "execution_count": 5,
   "id": "pursuant-sharing",
   "metadata": {},
   "outputs": [],
   "source": [
    "import torch\n",
    "import matplotlib.pyplot as plt"
   ]
  },
  {
   "cell_type": "code",
   "execution_count": 6,
   "id": "polyphonic-murder",
   "metadata": {},
   "outputs": [],
   "source": [
    "def modelTrainer(train_input,train_target,test_input,test_target,test_size):\n",
    "    seq = Sequential([\"FCC\",\"Sigmoid\",\"FCC\"],[[2,8],[], [8,1]],\"MSE\")\n",
    "    loss_track = []\n",
    "    for epoch in range(1000):\n",
    "        minibatch = 200\n",
    "        for i in range(0, train_input.size(0), minibatch):\n",
    "            out,loss = seq.train(train_input.narrow(0, i, minibatch), train_target.narrow(0, i, minibatch).unsqueeze(1))\n",
    "        if epoch %200 == 0:\n",
    "            print(\"Loss:\", loss.item())\n",
    "        loss_track.append(loss)\n",
    "    plt.figure()\n",
    "    plt.plot(loss_track)\n",
    "    print(\"---------------------------------\")\n",
    "    acc = 0\n",
    "    count = 0\n",
    "    for i in range(test_size):\n",
    "        truth = test_target[i].unsqueeze(0).unsqueeze(1)\n",
    "        inp = test_input[i,:].unsqueeze(0)\n",
    "        out = seq.eval(inp)\n",
    "        #print(out)\n",
    "        if stupid_acc_func(out,truth):\n",
    "            acc = acc + 1\n",
    "    return seq, acc /test_size"
   ]
  },
  {
   "cell_type": "code",
   "execution_count": 7,
   "id": "alive-september",
   "metadata": {
    "scrolled": true
   },
   "outputs": [
    {
     "name": "stdout",
     "output_type": "stream",
     "text": [
      "Loss: 0.47933971881866455\n",
      "Loss: 0.24983379244804382\n",
      "Loss: 0.249331995844841\n",
      "Loss: 0.24894340336322784\n",
      "Loss: 0.24863985180854797\n",
      "---------------------------------\n",
      "Loss: 0.4853180944919586\n",
      "Loss: 0.2503906488418579\n",
      "Loss: 0.24997082352638245\n",
      "Loss: 0.24964115023612976\n",
      "Loss: 0.24937458336353302\n",
      "---------------------------------\n",
      "Loss: 0.3285616934299469\n",
      "Loss: 0.2499176412820816\n",
      "Loss: 0.24882058799266815\n",
      "Loss: 0.2481326162815094\n",
      "Loss: 0.24769127368927002\n",
      "---------------------------------\n",
      "Loss: 0.48110756278038025\n",
      "Loss: 0.24996967613697052\n",
      "Loss: 0.24956929683685303\n",
      "Loss: 0.2492547631263733\n",
      "Loss: 0.24900409579277039\n",
      "---------------------------------\n",
      "Loss: 0.26058363914489746\n",
      "Loss: 0.2513457238674164\n",
      "Loss: 0.24952003359794617\n",
      "Loss: 0.24863816797733307\n",
      "Loss: 0.2481861263513565\n",
      "---------------------------------\n",
      "Loss: 0.890148937702179\n",
      "Loss: 0.2496289759874344\n",
      "Loss: 0.24915426969528198\n",
      "Loss: 0.24883027374744415\n",
      "Loss: 0.2485887110233307\n",
      "---------------------------------\n",
      "Loss: 0.5802064538002014\n",
      "Loss: 0.24693910777568817\n",
      "Loss: 0.24680396914482117\n",
      "Loss: 0.24674184620380402\n",
      "Loss: 0.24671733379364014\n",
      "---------------------------------\n",
      "Loss: 0.6502628922462463\n",
      "Loss: 0.25381484627723694\n",
      "Loss: 0.25177979469299316\n",
      "Loss: 0.250569611787796\n",
      "Loss: 0.24977710843086243\n",
      "---------------------------------\n",
      "Loss: 0.2507666051387787\n",
      "Loss: 0.24981731176376343\n",
      "Loss: 0.24928291141986847\n",
      "Loss: 0.24889685213565826\n",
      "Loss: 0.2486126720905304\n",
      "---------------------------------\n",
      "Loss: 0.3091464340686798\n",
      "Loss: 0.24972935020923615\n",
      "Loss: 0.24912843108177185\n",
      "Loss: 0.24868884682655334\n",
      "Loss: 0.2483626902103424\n",
      "---------------------------------\n"
     ]
    },
    {
     "data": {
      "text/plain": [
       "0.6"
      ]
     },
     "execution_count": 7,
     "metadata": {},
     "output_type": "execute_result"
    },
    {
     "data": {
      "image/png": "[encoded data removed]",
      "text/plain": [
       "<Figure size 432x288 with 1 Axes>"
      ]
     },
     "metadata": {
      "needs_background": "light"
     },
     "output_type": "display_data"
    },
    {
     "data": {
      "image/png": "[encoded data removed]",
      "text/plain": [
       "<Figure size 432x288 with 1 Axes>"
      ]
     },
     "metadata": {
      "needs_background": "light"
     },
     "output_type": "display_data"
    },
    {
     "data": {
      "image/png": "[encoded data removed]",
      "text/plain": [
       "<Figure size 432x288 with 1 Axes>"
      ]
     },
     "metadata": {
      "needs_background": "light"
     },
     "output_type": "display_data"
    },
    {
     "data": {
      "image/png": "[encoded data removed]",
      "text/plain": [
       "<Figure size 432x288 with 1 Axes>"
      ]
     },
     "metadata": {
      "needs_background": "light"
     },
     "output_type": "display_data"
    },
    {
     "data": {
      "image/png": "[encoded data removed]",
      "text/plain": [
       "<Figure size 432x288 with 1 Axes>"
      ]
     },
     "metadata": {
      "needs_background": "light"
     },
     "output_type": "display_data"
    },
    {
     "data": {
      "image/png": "[encoded data removed]",
      "text/plain": [
       "<Figure size 432x288 with 1 Axes>"
      ]
     },
     "metadata": {
      "needs_background": "light"
     },
     "output_type": "display_data"
    },
    {
     "data": {
      "image/png": "[encoded data removed]",
      "text/plain": [
       "<Figure size 432x288 with 1 Axes>"
      ]
     },
     "metadata": {
      "needs_background": "light"
     },
     "output_type": "display_data"
    },
    {
     "data": {
      "image/png": "[encoded data removed]",
      "text/plain": [
       "<Figure size 432x288 with 1 Axes>"
      ]
     },
     "metadata": {
      "needs_background": "light"
     },
     "output_type": "display_data"
    },
    {
     "data": {
      "image/png": "[encoded data removed]",
      "text/plain": [
       "<Figure size 432x288 with 1 Axes>"
      ]
     },
     "metadata": {
      "needs_background": "light"
     },
     "output_type": "display_data"
    },
    {
     "data": {
      "image/png": "[encoded data removed]",
      "text/plain": [
       "<Figure size 432x288 with 1 Axes>"
      ]
     },
     "metadata": {
      "needs_background": "light"
     },
     "output_type": "display_data"
    }
   ],
   "source": [
    "train_size = 1000\n",
    "test_size = 200\n",
    "valid_size = 100\n",
    "train_input = empty(train_size, 2).uniform_(0,1)\n",
    "train_target = train_input.add(-0.5).pow(2).sum(1).sub(1 / (7)).multiply(-1).sign().add(1).div(2)\n",
    "\n",
    "valid_input = empty(valid_size, 2).uniform_(0,1)\n",
    "valid_target = valid_input.add(-0.5).pow(2).sum(1).sub(1 / (7)).multiply(-1).sign().add(1).div(2)\n",
    "\n",
    "test_input = empty(test_size, 2).uniform_(0,1)\n",
    "test_target = test_input.add(-0.5).pow(2).sum(1).sub(1 / (7)).multiply(-1).sign().add(1).div(2)\n",
    "\n",
    "\n",
    "\n",
    "models = []\n",
    "best_acc = 0\n",
    "curr_acc = 0\n",
    "best_idx = -1\n",
    "for idx in range(10):    \n",
    "    model,curr_acc = modelTrainer(train_input,train_target,valid_input,valid_target,valid_size) \n",
    "    models.append(model)\n",
    "    if (curr_acc > best_acc):\n",
    "        best_acc = curr_acc\n",
    "        best_idx = idx\n",
    "\n",
    "acc = 0\n",
    "count = 0\n",
    "for i in range(test_size):\n",
    "    truth = test_target[i].unsqueeze(0).unsqueeze(1)\n",
    "    inp = test_input[i,:].unsqueeze(0)\n",
    "    out = models[best_idx].eval(inp)\n",
    "    #print(out)\n",
    "    if stupid_acc_func(out,truth):\n",
    "        acc = acc + 1\n",
    "acc /test_size"
   ]
  },
  {
   "cell_type": "code",
   "execution_count": 8,
   "id": "worldwide-xerox",
   "metadata": {},
   "outputs": [
    {
     "data": {
      "text/plain": [
       "0"
      ]
     },
     "execution_count": 8,
     "metadata": {},
     "output_type": "execute_result"
    }
   ],
   "source": [
    "best_idx"
   ]
  },
  {
   "cell_type": "code",
   "execution_count": 9,
   "id": "prepared-money",
   "metadata": {},
   "outputs": [
    {
     "data": {
      "text/plain": [
       "tensor([0., 1., 0., 1., 0., 1., 1., 1., 0., 0., 1., 1., 1., 0., 0., 0., 0., 0.,\n",
       "        0., 0., 1., 0., 1., 0., 0., 0., 0., 0., 0., 0., 1., 1., 0., 1., 1., 0.,\n",
       "        0., 1., 1., 0., 1., 0., 1., 0., 0., 1., 0., 0., 0., 0., 0., 1., 0., 0.,\n",
       "        0., 0., 1., 1., 1., 0., 0., 0., 0., 0., 0., 0., 0., 0., 0., 0., 0., 1.,\n",
       "        1., 1., 0., 1., 1., 0., 0., 0., 1., 0., 1., 0., 0., 1., 1., 1., 0., 1.,\n",
       "        0., 1., 1., 0., 1., 0., 0., 0., 1., 0., 1., 0., 1., 1., 0., 0., 0., 0.,\n",
       "        1., 0., 0., 0., 1., 1., 0., 1., 0., 0., 1., 0., 1., 0., 0., 0., 0., 0.,\n",
       "        1., 1., 0., 1., 0., 0., 1., 1., 0., 0., 0., 1., 1., 1., 0., 0., 0., 1.,\n",
       "        0., 0., 1., 1., 1., 0., 0., 1., 1., 0., 0., 0., 0., 0., 1., 1., 1., 1.,\n",
       "        1., 0., 1., 0., 0., 0., 0., 0., 0., 0., 1., 1., 0., 0., 0., 0., 1., 0.,\n",
       "        1., 0., 1., 0., 0., 0., 1., 1., 1., 0., 0., 0., 0., 1., 1., 1., 0., 1.,\n",
       "        1., 0.])"
      ]
     },
     "execution_count": 9,
     "metadata": {},
     "output_type": "execute_result"
    }
   ],
   "source": [
    "test_target"
   ]
  },
  {
   "cell_type": "code",
   "execution_count": 10,
   "id": "unable-cream",
   "metadata": {},
   "outputs": [
    {
     "ename": "NameError",
     "evalue": "name 'NN_builder' is not defined",
     "output_type": "error",
     "traceback": [
      "\u001b[1;31m---------------------------------------------------------------------------\u001b[0m",
      "\u001b[1;31mNameError\u001b[0m                                 Traceback (most recent call last)",
      "\u001b[1;32m<ipython-input-10-2f6852577c22>\u001b[0m in \u001b[0;36m<module>\u001b[1;34m\u001b[0m\n\u001b[1;32m----> 1\u001b[1;33m \u001b[0mbuilder\u001b[0m \u001b[1;33m=\u001b[0m \u001b[0mNN_builder\u001b[0m\u001b[1;33m(\u001b[0m\u001b[1;33m)\u001b[0m\u001b[1;33m\u001b[0m\u001b[1;33m\u001b[0m\u001b[0m\n\u001b[0m\u001b[0;32m      2\u001b[0m \u001b[0mtest\u001b[0m \u001b[1;33m=\u001b[0m \u001b[0mempty\u001b[0m\u001b[1;33m(\u001b[0m\u001b[1;36m1000\u001b[0m\u001b[1;33m,\u001b[0m\u001b[1;36m2\u001b[0m\u001b[1;33m)\u001b[0m\u001b[1;33m.\u001b[0m\u001b[0mrandom_\u001b[0m\u001b[1;33m(\u001b[0m\u001b[1;36m0\u001b[0m\u001b[1;33m,\u001b[0m\u001b[1;36m2\u001b[0m\u001b[1;33m)\u001b[0m\u001b[1;33m\u001b[0m\u001b[1;33m\u001b[0m\u001b[0m\n\u001b[0;32m      3\u001b[0m \u001b[1;32mfor\u001b[0m \u001b[0mi\u001b[0m \u001b[1;32min\u001b[0m \u001b[0mrange\u001b[0m\u001b[1;33m(\u001b[0m\u001b[1;36m1000\u001b[0m\u001b[1;33m)\u001b[0m\u001b[1;33m:\u001b[0m\u001b[1;33m\u001b[0m\u001b[1;33m\u001b[0m\u001b[0m\n\u001b[0;32m      4\u001b[0m     \u001b[0mtruth\u001b[0m \u001b[1;33m=\u001b[0m \u001b[0mempty\u001b[0m\u001b[1;33m(\u001b[0m\u001b[1;36m1\u001b[0m\u001b[1;33m,\u001b[0m\u001b[1;36m1\u001b[0m\u001b[1;33m)\u001b[0m\u001b[1;33m.\u001b[0m\u001b[0mfill_\u001b[0m\u001b[1;33m(\u001b[0m\u001b[0mstupid_test_function\u001b[0m\u001b[1;33m(\u001b[0m\u001b[0mtest\u001b[0m\u001b[1;33m[\u001b[0m\u001b[0mi\u001b[0m\u001b[1;33m,\u001b[0m\u001b[1;36m0\u001b[0m\u001b[1;33m]\u001b[0m\u001b[1;33m,\u001b[0m\u001b[0mtest\u001b[0m\u001b[1;33m[\u001b[0m\u001b[0mi\u001b[0m\u001b[1;33m,\u001b[0m\u001b[1;36m1\u001b[0m\u001b[1;33m]\u001b[0m\u001b[1;33m)\u001b[0m\u001b[1;33m)\u001b[0m\u001b[1;33m\u001b[0m\u001b[1;33m\u001b[0m\u001b[0m\n\u001b[0;32m      5\u001b[0m     \u001b[0minp\u001b[0m \u001b[1;33m=\u001b[0m \u001b[0mtest\u001b[0m\u001b[1;33m[\u001b[0m\u001b[0mi\u001b[0m\u001b[1;33m,\u001b[0m\u001b[1;33m:\u001b[0m\u001b[1;33m]\u001b[0m\u001b[1;33m.\u001b[0m\u001b[0munsqueeze\u001b[0m\u001b[1;33m(\u001b[0m\u001b[1;36m0\u001b[0m\u001b[1;33m)\u001b[0m\u001b[1;33m\u001b[0m\u001b[1;33m\u001b[0m\u001b[0m\n",
      "\u001b[1;31mNameError\u001b[0m: name 'NN_builder' is not defined"
     ]
    }
   ],
   "source": [
    "builder = NN_builder()\n",
    "test = empty(1000,2).random_(0,2)\n",
    "for i in range(1000):\n",
    "    truth = empty(1,1).fill_(stupid_test_function(test[i,0],test[i,1]))\n",
    "    inp = test[i,:].unsqueeze(0)\n",
    "    out = builder.model_train(inp,truth)\n",
    "    \n",
    "test2 = empty(100,2).random_(0,2)\n",
    "acc = 0\n",
    "count = 0\n",
    "for i in range(100):\n",
    "    truth = empty(1,1).fill_(stupid_test_function(test2[i,0],test2[i,1]))\n",
    "    inp = test2[i,:].unsqueeze(0)\n",
    "    out = builder.model_eval(inp)\n",
    "    #print(out)\n",
    "    if out.item() > 0.5:\n",
    "        count = count + 1\n",
    "    if stupid_acc_func(out,truth):\n",
    "        acc = acc + 1\n",
    "acc /100"
   ]
  },
  {
   "cell_type": "markdown",
   "id": "three-secretariat",
   "metadata": {},
   "source": [
    "### Benchmarking"
   ]
  },
  {
   "cell_type": "code",
   "execution_count": null,
   "id": "creative-choir",
   "metadata": {},
   "outputs": [],
   "source": [
    "from torch import optim, Tensor, nn\n",
    "from torch import Tensor\n",
    "from torch import nn\n",
    "import torch\n",
    "import numpy as np\n",
    "import matplotlib.pyplot as plt\n",
    "torch.set_grad_enabled(True)\n",
    "\n",
    "def create_model():\n",
    "    return nn.Sequential(\n",
    "        nn.Linear(2, 8),\n",
    "        nn.ReLU(),\n",
    "        nn.Linear(8, 1),\n",
    "#         nn.ReLU(),\n",
    "    )\n",
    "\n",
    "def train_model(model, train_input, train_target):\n",
    "    loss_track = []\n",
    "    loss_func = nn.MSELoss()\n",
    "    optimizer = optim.SGD(model.parameters(), lr = 0.1)\n",
    "    mini_batch = 200\n",
    "    # Iterate through epochs\n",
    "    for i in range(1000):\n",
    "        #Iterate t hrough mini batches\n",
    "        for b in range(0, train_input.size(0), mini_batch):\n",
    "            # Forward pass selecting the corresponding minibacth\n",
    "            output = model(train_input.narrow(0, b, mini_batch))\n",
    "            # Calculate loss\n",
    "            loss = loss_func(output.squeeze(), train_target.narrow(0, b, mini_batch))\n",
    "#             print(\"Loss:\", loss.item())\n",
    "            # Reset zero grad\n",
    "            model.zero_grad()\n",
    "            # Backward pass\n",
    "            loss.backward()\n",
    "            #Update step\n",
    "            optimizer.step()\n",
    "        loss_track.append(loss)\n",
    "    plt.plot(loss_track)\n",
    "    \n",
    "def compute_nb_errors(model, data_input, data_target):\n",
    "        output = model(data_input)\n",
    "        comp = output.argmax(dim = 1) != data_target.argmax(dim = 1)\n",
    "        nb_errors = torch.where(comp)[0].size()[0]\n",
    "        error_rate = nb_errors/data_input.size(0)\n",
    "        print(f'There were a total of {nb_errors} errors, or {error_rate} of the testing set.')\n",
    "        \n",
    "        \n",
    "model = create_model()\n",
    "train_model(model, train_input, train_target)\n",
    "# compute_nb_errors(model, test_input, test_target)"
   ]
  },
  {
   "cell_type": "code",
   "execution_count": null,
   "id": "controversial-equipment",
   "metadata": {},
   "outputs": [],
   "source": []
  }
 ],
 "metadata": {
  "kernelspec": {
   "display_name": "Python 3",
   "language": "python",
   "name": "python3"
  },
  "language_info": {
   "codemirror_mode": {
    "name": "ipython",
    "version": 3
   },
   "file_extension": ".py",
   "mimetype": "text/x-python",
   "name": "python",
   "nbconvert_exporter": "python",
   "pygments_lexer": "ipython3",
   "version": "3.8.8"
  }
 },
 "nbformat": 4,
 "nbformat_minor": 5
}
